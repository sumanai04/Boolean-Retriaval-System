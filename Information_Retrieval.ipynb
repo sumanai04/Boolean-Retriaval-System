{
  "cells": [
    {
      "cell_type": "markdown",
      "metadata": {},
      "source": [
        "Name    : Fathi Al Adha Hylmi\n",
        "NIM     : 22/492195/PA/21088"
      ]
    },
    {
      "cell_type": "code",
      "execution_count": 1,
      "metadata": {
        "colab": {
          "base_uri": "https://localhost:8080/"
        },
        "id": "KpSAfOskaUod",
        "outputId": "6c3160c3-c527-4e55-dd4d-8d58f06591ac"
      },
      "outputs": [
        {
          "name": "stderr",
          "output_type": "stream",
          "text": [
            "[nltk_data] Downloading package stopwords to\n",
            "[nltk_data]     C:\\Users\\hylmi\\AppData\\Roaming\\nltk_data...\n",
            "[nltk_data]   Package stopwords is already up-to-date!\n",
            "[nltk_data] Downloading package wordnet to\n",
            "[nltk_data]     C:\\Users\\hylmi\\AppData\\Roaming\\nltk_data...\n",
            "[nltk_data]   Package wordnet is already up-to-date!\n"
          ]
        }
      ],
      "source": [
        "import pandas as pd\n",
        "import nltk\n",
        "import re\n",
        "from collections import defaultdict\n",
        "import numpy as np\n",
        "from nltk.corpus import stopwords\n",
        "nltk.download('stopwords')\n",
        "nltk.download('wordnet')\n",
        "from nltk.stem import PorterStemmer\n",
        "from nltk.stem import LancasterStemmer\n",
        "import time"
      ]
    },
    {
      "cell_type": "code",
      "execution_count": 2,
      "metadata": {
        "colab": {
          "base_uri": "https://localhost:8080/",
          "height": 1000
        },
        "id": "fNT_eMa2Xw5X",
        "outputId": "581fdbed-d79b-47e5-8ad2-77625f8452ce"
      },
      "outputs": [
        {
          "name": "stderr",
          "output_type": "stream",
          "text": [
            "[nltk_data] Downloading package punkt to\n",
            "[nltk_data]     C:\\Users\\hylmi\\AppData\\Roaming\\nltk_data...\n",
            "[nltk_data]   Package punkt is already up-to-date!\n"
          ]
        },
        {
          "data": {
            "text/html": [
              "<div>\n",
              "<style scoped>\n",
              "    .dataframe tbody tr th:only-of-type {\n",
              "        vertical-align: middle;\n",
              "    }\n",
              "\n",
              "    .dataframe tbody tr th {\n",
              "        vertical-align: top;\n",
              "    }\n",
              "\n",
              "    .dataframe thead th {\n",
              "        text-align: right;\n",
              "    }\n",
              "</style>\n",
              "<table border=\"1\" class=\"dataframe\">\n",
              "  <thead>\n",
              "    <tr style=\"text-align: right;\">\n",
              "      <th></th>\n",
              "      <th>id</th>\n",
              "      <th>id_author</th>\n",
              "      <th>title</th>\n",
              "      <th>portal</th>\n",
              "      <th>time</th>\n",
              "      <th>author</th>\n",
              "      <th>editor</th>\n",
              "      <th>content</th>\n",
              "      <th>source</th>\n",
              "    </tr>\n",
              "  </thead>\n",
              "  <tbody>\n",
              "    <tr>\n",
              "      <th>0</th>\n",
              "      <td>0</td>\n",
              "      <td>1</td>\n",
              "      <td>Infografis Pekerja Asing Dilarang Masuk Wilaya...</td>\n",
              "      <td>Liputan6.com</td>\n",
              "      <td>24 Jul 2021, 09:02 WIB</td>\n",
              "      <td>Abdillah</td>\n",
              "      <td>Abdillah</td>\n",
              "      <td>Pemerintah melalui Menteri Hukum dan Hak Asasi...</td>\n",
              "      <td>https://www.liputan6.com/news/read/4614451/inf...</td>\n",
              "    </tr>\n",
              "    <tr>\n",
              "      <th>1</th>\n",
              "      <td>1</td>\n",
              "      <td>1</td>\n",
              "      <td>Infografis Jadwal Bulu Tangkis Indonesia di Ol...</td>\n",
              "      <td>Liputan6.com</td>\n",
              "      <td>23 Jul 2021, 23:23 WIB</td>\n",
              "      <td>Abdillah</td>\n",
              "      <td>Abdillah</td>\n",
              "      <td>Bulu Tangkis menjadi andalan Indonesia berburu...</td>\n",
              "      <td>https://www.liputan6.com/bola/read/4614427/inf...</td>\n",
              "    </tr>\n",
              "    <tr>\n",
              "      <th>2</th>\n",
              "      <td>2</td>\n",
              "      <td>1</td>\n",
              "      <td>Infografis Jangan Bebal, Kamu Tidak Kebal Covi...</td>\n",
              "      <td>Liputan6.com</td>\n",
              "      <td>23 Jul 2021, 10:40 WIB</td>\n",
              "      <td>Abdillah</td>\n",
              "      <td>Abdillah</td>\n",
              "      <td>Covid-19 tidak mengenal usia dan status. Siapa...</td>\n",
              "      <td>https://www.liputan6.com/news/read/4613233/inf...</td>\n",
              "    </tr>\n",
              "    <tr>\n",
              "      <th>3</th>\n",
              "      <td>3</td>\n",
              "      <td>1</td>\n",
              "      <td>Infografis Awas Perokok Lebih Rentan Tertular ...</td>\n",
              "      <td>Liputan6.com</td>\n",
              "      <td>22 Jul 2021, 10:35 WIB</td>\n",
              "      <td>Abdillah</td>\n",
              "      <td>Abdillah</td>\n",
              "      <td>Kebiasaan merokok berisiko menimbulkan sejumla...</td>\n",
              "      <td>https://www.liputan6.com/news/read/4612324/inf...</td>\n",
              "    </tr>\n",
              "    <tr>\n",
              "      <th>4</th>\n",
              "      <td>4</td>\n",
              "      <td>1</td>\n",
              "      <td>Infografis Perbedaan Aturan PPKM Level 3 dan 4</td>\n",
              "      <td>Liputan6.com</td>\n",
              "      <td>22 Jul 2021, 09:01 WIB</td>\n",
              "      <td>Abdillah</td>\n",
              "      <td>Abdillah</td>\n",
              "      <td>Pemberlakuan Pembatasan Kegiatan Masyarakat at...</td>\n",
              "      <td>https://www.liputan6.com/news/read/4612511/inf...</td>\n",
              "    </tr>\n",
              "    <tr>\n",
              "      <th>...</th>\n",
              "      <td>...</td>\n",
              "      <td>...</td>\n",
              "      <td>...</td>\n",
              "      <td>...</td>\n",
              "      <td>...</td>\n",
              "      <td>...</td>\n",
              "      <td>...</td>\n",
              "      <td>...</td>\n",
              "      <td>...</td>\n",
              "    </tr>\n",
              "    <tr>\n",
              "      <th>14338</th>\n",
              "      <td>14339</td>\n",
              "      <td>88</td>\n",
              "      <td>Berhemat Ruang Isolasi Pasien Covid</td>\n",
              "      <td>Merdeka.com</td>\n",
              "      <td>Senin, 7 September 2020 09:14</td>\n",
              "      <td>Wilfridus Setu Embu</td>\n",
              "      <td>-</td>\n",
              "      <td>Kasus baru pasien positif Covid-19 masih bel...</td>\n",
              "      <td>https://www.merdeka.com/khas/berhemat-ruang-is...</td>\n",
              "    </tr>\n",
              "    <tr>\n",
              "      <th>14339</th>\n",
              "      <td>14340</td>\n",
              "      <td>88</td>\n",
              "      <td>Kendala Memadamkan Kebakaran Gedung Kejagung</td>\n",
              "      <td>Merdeka.com</td>\n",
              "      <td>Senin, 31 Agustus 2020 10:37</td>\n",
              "      <td>Wilfridus Setu Embu</td>\n",
              "      <td>-</td>\n",
              "      <td>Laporan kebakaran datang pukul 19.10 WIB. Ti...</td>\n",
              "      <td>https://www.merdeka.com/khas/kendala-memadamka...</td>\n",
              "    </tr>\n",
              "    <tr>\n",
              "      <th>14340</th>\n",
              "      <td>14341</td>\n",
              "      <td>88</td>\n",
              "      <td>Kobaran Api Kejagung RI</td>\n",
              "      <td>Merdeka.com</td>\n",
              "      <td>Senin, 31 Agustus 2020 09:35</td>\n",
              "      <td>Wilfridus Setu Embu</td>\n",
              "      <td>-</td>\n",
              "      <td>Menjelang petang, Marni sedang sibuk melayan...</td>\n",
              "      <td>https://www.merdeka.com/khas/kobaran-api-kejag...</td>\n",
              "    </tr>\n",
              "    <tr>\n",
              "      <th>14341</th>\n",
              "      <td>14342</td>\n",
              "      <td>88</td>\n",
              "      <td>Kampus Ruang Diskusi, Pendidikan Militer Belum...</td>\n",
              "      <td>Merdeka.com</td>\n",
              "      <td>Senin, 24 Agustus 2020 10:06</td>\n",
              "      <td>Wilfridus Setu Embu</td>\n",
              "      <td>-</td>\n",
              "      <td>Banyak cara wewujudkan rasa nasionalisme kau...</td>\n",
              "      <td>https://www.merdeka.com/khas/kampus-ruang-disk...</td>\n",
              "    </tr>\n",
              "    <tr>\n",
              "      <th>14342</th>\n",
              "      <td>14343</td>\n",
              "      <td>88</td>\n",
              "      <td>Sinyal Program Militer Masuk Kampus</td>\n",
              "      <td>Merdeka.com</td>\n",
              "      <td>Senin, 24 Agustus 2020 09:04</td>\n",
              "      <td>Wilfridus Setu Embu</td>\n",
              "      <td>-</td>\n",
              "      <td>Isu pendidikan ala militer masuk kampus buru...</td>\n",
              "      <td>https://www.merdeka.com/khas/sinyal-program-mi...</td>\n",
              "    </tr>\n",
              "  </tbody>\n",
              "</table>\n",
              "<p>14343 rows × 9 columns</p>\n",
              "</div>"
            ],
            "text/plain": [
              "          id  id_author                                              title  \\\n",
              "0          0          1  Infografis Pekerja Asing Dilarang Masuk Wilaya...   \n",
              "1          1          1  Infografis Jadwal Bulu Tangkis Indonesia di Ol...   \n",
              "2          2          1  Infografis Jangan Bebal, Kamu Tidak Kebal Covi...   \n",
              "3          3          1  Infografis Awas Perokok Lebih Rentan Tertular ...   \n",
              "4          4          1     Infografis Perbedaan Aturan PPKM Level 3 dan 4   \n",
              "...      ...        ...                                                ...   \n",
              "14338  14339         88                Berhemat Ruang Isolasi Pasien Covid   \n",
              "14339  14340         88       Kendala Memadamkan Kebakaran Gedung Kejagung   \n",
              "14340  14341         88                            Kobaran Api Kejagung RI   \n",
              "14341  14342         88  Kampus Ruang Diskusi, Pendidikan Militer Belum...   \n",
              "14342  14343         88                Sinyal Program Militer Masuk Kampus   \n",
              "\n",
              "             portal                           time               author  \\\n",
              "0      Liputan6.com         24 Jul 2021, 09:02 WIB             Abdillah   \n",
              "1      Liputan6.com         23 Jul 2021, 23:23 WIB             Abdillah   \n",
              "2      Liputan6.com         23 Jul 2021, 10:40 WIB             Abdillah   \n",
              "3      Liputan6.com         22 Jul 2021, 10:35 WIB             Abdillah   \n",
              "4      Liputan6.com         22 Jul 2021, 09:01 WIB             Abdillah   \n",
              "...             ...                            ...                  ...   \n",
              "14338   Merdeka.com  Senin, 7 September 2020 09:14  Wilfridus Setu Embu   \n",
              "14339   Merdeka.com   Senin, 31 Agustus 2020 10:37  Wilfridus Setu Embu   \n",
              "14340   Merdeka.com   Senin, 31 Agustus 2020 09:35  Wilfridus Setu Embu   \n",
              "14341   Merdeka.com   Senin, 24 Agustus 2020 10:06  Wilfridus Setu Embu   \n",
              "14342   Merdeka.com   Senin, 24 Agustus 2020 09:04  Wilfridus Setu Embu   \n",
              "\n",
              "         editor                                            content  \\\n",
              "0      Abdillah  Pemerintah melalui Menteri Hukum dan Hak Asasi...   \n",
              "1      Abdillah  Bulu Tangkis menjadi andalan Indonesia berburu...   \n",
              "2      Abdillah  Covid-19 tidak mengenal usia dan status. Siapa...   \n",
              "3      Abdillah  Kebiasaan merokok berisiko menimbulkan sejumla...   \n",
              "4      Abdillah  Pemberlakuan Pembatasan Kegiatan Masyarakat at...   \n",
              "...         ...                                                ...   \n",
              "14338         -    Kasus baru pasien positif Covid-19 masih bel...   \n",
              "14339         -    Laporan kebakaran datang pukul 19.10 WIB. Ti...   \n",
              "14340         -    Menjelang petang, Marni sedang sibuk melayan...   \n",
              "14341         -    Banyak cara wewujudkan rasa nasionalisme kau...   \n",
              "14342         -    Isu pendidikan ala militer masuk kampus buru...   \n",
              "\n",
              "                                                  source  \n",
              "0      https://www.liputan6.com/news/read/4614451/inf...  \n",
              "1      https://www.liputan6.com/bola/read/4614427/inf...  \n",
              "2      https://www.liputan6.com/news/read/4613233/inf...  \n",
              "3      https://www.liputan6.com/news/read/4612324/inf...  \n",
              "4      https://www.liputan6.com/news/read/4612511/inf...  \n",
              "...                                                  ...  \n",
              "14338  https://www.merdeka.com/khas/berhemat-ruang-is...  \n",
              "14339  https://www.merdeka.com/khas/kendala-memadamka...  \n",
              "14340  https://www.merdeka.com/khas/kobaran-api-kejag...  \n",
              "14341  https://www.merdeka.com/khas/kampus-ruang-disk...  \n",
              "14342  https://www.merdeka.com/khas/sinyal-program-mi...  \n",
              "\n",
              "[14343 rows x 9 columns]"
            ]
          },
          "execution_count": 2,
          "metadata": {},
          "output_type": "execute_result"
        }
      ],
      "source": [
        "# Download NLTK data if not already installed\n",
        "nltk.download('punkt')\n",
        "\n",
        "# Load the dataset\n",
        "df = pd.read_csv(\"C:/Users/hylmi/OneDrive - UGM 365/Semester 5/Information Retrieval/News.csv\")\n",
        "df"
      ]
    },
    {
      "cell_type": "code",
      "execution_count": 3,
      "metadata": {
        "colab": {
          "base_uri": "https://localhost:8080/",
          "height": 458
        },
        "id": "qc3YGjsg0uo0",
        "outputId": "e72ffdbc-4c59-44c3-c615-e23f44557ace"
      },
      "outputs": [
        {
          "data": {
            "text/plain": [
              "0        Pemerintah melalui Menteri Hukum dan Hak Asasi...\n",
              "1        Bulu Tangkis menjadi andalan Indonesia berburu...\n",
              "2        Covid-19 tidak mengenal usia dan status. Siapa...\n",
              "3        Kebiasaan merokok berisiko menimbulkan sejumla...\n",
              "4        Pemberlakuan Pembatasan Kegiatan Masyarakat at...\n",
              "                               ...                        \n",
              "14338      Kasus baru pasien positif Covid-19 masih bel...\n",
              "14339      Laporan kebakaran datang pukul 19.10 WIB. Ti...\n",
              "14340      Menjelang petang Marni sedang sibuk melayani...\n",
              "14341      Banyak cara wewujudkan rasa nasionalisme kau...\n",
              "14342      Isu pendidikan ala militer masuk kampus buru...\n",
              "Name: clean_punct, Length: 14343, dtype: object"
            ]
          },
          "execution_count": 3,
          "metadata": {},
          "output_type": "execute_result"
        }
      ],
      "source": [
        "#Remove Puncutuation\n",
        "clean_spcl = re.compile('[/(){}\\[\\]\\|@,;]')\n",
        "def clean_punct(text):\n",
        "    text = clean_spcl.sub('', text)\n",
        "    return text\n",
        "\n",
        "df['clean_punct'] = df['content'].dropna().apply(clean_punct)\n",
        "df['clean_punct']"
      ]
    },
    {
      "cell_type": "code",
      "execution_count": 4,
      "metadata": {
        "colab": {
          "base_uri": "https://localhost:8080/",
          "height": 458
        },
        "id": "AeLbcuvC4NL1",
        "outputId": "f20c2d06-7a08-47ce-9c45-815535f83520"
      },
      "outputs": [
        {
          "data": {
            "text/plain": [
              "0        pemerintah melalui menteri hukum dan hak asasi...\n",
              "1        bulu tangkis menjadi andalan indonesia berburu...\n",
              "2        covid-19 tidak mengenal usia dan status. siapa...\n",
              "3        kebiasaan merokok berisiko menimbulkan sejumla...\n",
              "4        pemberlakuan pembatasan kegiatan masyarakat at...\n",
              "                               ...                        \n",
              "14338      kasus baru pasien positif covid-19 masih bel...\n",
              "14339      laporan kebakaran datang pukul 19.10 wib. ti...\n",
              "14340      menjelang petang marni sedang sibuk melayani...\n",
              "14341      banyak cara wewujudkan rasa nasionalisme kau...\n",
              "14342      isu pendidikan ala militer masuk kampus buru...\n",
              "Name: lower, Length: 14343, dtype: object"
            ]
          },
          "execution_count": 4,
          "metadata": {},
          "output_type": "execute_result"
        }
      ],
      "source": [
        "# prompt: lower case everything in a column\n",
        "df['lower'] = df['clean_punct'].dropna().apply(lambda x: x.lower())\n",
        "df['lower']"
      ]
    },
    {
      "cell_type": "code",
      "execution_count": 5,
      "metadata": {
        "colab": {
          "base_uri": "https://localhost:8080/",
          "height": 458
        },
        "id": "GUqlUKg27TIY",
        "outputId": "6b051a6a-dbce-4d12-b539-1e1e12d50a81"
      },
      "outputs": [
        {
          "data": {
            "text/plain": [
              "0        pemerintah melalui menteri hukum dan hak asasi...\n",
              "1        bulu tangkis menjadi andalan indonesia berburu...\n",
              "2        covid-19 tidak mengenal usia dan status. siapa...\n",
              "3        kebiasaan merokok berisiko menimbulkan sejumla...\n",
              "4        pemberlakuan pembatasan kegiatan masyarakat at...\n",
              "                               ...                        \n",
              "14338    kasus baru pasien positif covid-19 masih belum...\n",
              "14339    laporan kebakaran datang pukul 19.10 wib. tim ...\n",
              "14340    menjelang petang marni sedang sibuk melayani p...\n",
              "14341    banyak cara wewujudkan rasa nasionalisme kaum ...\n",
              "14342    isu pendidikan ala militer masuk kampus buru-b...\n",
              "Name: clean_content, Length: 14343, dtype: object"
            ]
          },
          "execution_count": 5,
          "metadata": {},
          "output_type": "execute_result"
        }
      ],
      "source": [
        "#remove double or more whitespace\n",
        "def _normalize_whitespace(text):\n",
        "    corrected = str(text)\n",
        "    corrected = re.sub(r\"//t\",r\"\\t\", corrected)\n",
        "    corrected = re.sub(r\"( )\\1+\",r\"\\1\", corrected)\n",
        "    corrected = re.sub(r\"(\\n)\\1+\",r\"\\1\", corrected)\n",
        "    corrected = re.sub(r\"(\\r)\\1+\",r\"\\1\", corrected)\n",
        "    corrected = re.sub(r\"(\\t)\\1+\",r\"\\1\", corrected)\n",
        "    return corrected.strip(\" \")\n",
        "df['clean_content'] = df['lower'].dropna().apply(_normalize_whitespace)\n",
        "df['clean_content']"
      ]
    },
    {
      "cell_type": "code",
      "execution_count": 6,
      "metadata": {
        "colab": {
          "base_uri": "https://localhost:8080/"
        },
        "id": "En1reNod000O",
        "outputId": "270ca0d9-310f-437d-924d-00cbc23bb3d0"
      },
      "outputs": [
        {
          "name": "stdout",
          "output_type": "stream",
          "text": [
            "Total Documents: 14334\n",
            "Total Words: 5987490\n",
            "Total Sentences: 322544\n"
          ]
        }
      ],
      "source": [
        "# Calculate the number of documents\n",
        "num_docs = df['content'].notnull().sum()\n",
        "\n",
        "# Function to count words/terms\n",
        "def count_words(text):\n",
        "    words = nltk.word_tokenize(text)\n",
        "    return len(words)\n",
        "\n",
        "# Function to count sentences\n",
        "def count_sentences(text):\n",
        "    sentences = nltk.sent_tokenize(text)\n",
        "    return len(sentences)\n",
        "\n",
        "# Initialize counts\n",
        "total_words = 0\n",
        "total_sentences = 0\n",
        "\n",
        "# Iterate through the dataset and calculate words and sentences\n",
        "for content in df['clean_content'].dropna():\n",
        "    total_words += count_words(content)\n",
        "    total_sentences += count_sentences(content)\n",
        "\n",
        "# Display the results\n",
        "print(f\"Total Documents: {num_docs}\")\n",
        "print(f\"Total Words: {total_words}\")\n",
        "print(f\"Total Sentences: {total_sentences}\")"
      ]
    },
    {
      "cell_type": "code",
      "execution_count": 7,
      "metadata": {
        "id": "qWdIe4QwaMV3"
      },
      "outputs": [],
      "source": [
        "# Timing the Inverted Index Creation\n",
        "start_time_index = time.time()\n",
        "\n",
        "# Initialize an inverted index using defaultdict\n",
        "inverted_index = defaultdict(list)\n",
        "\n",
        "# Build the inverted index\n",
        "for index, row in df.iterrows():\n",
        "    doc_id = row['id']\n",
        "    content = row['clean_content']\n",
        "    \n",
        "    if pd.notnull(content):\n",
        "        words = nltk.word_tokenize(content.lower())\n",
        "        for word in set(words):  # Use set to avoid duplicate document entries\n",
        "            inverted_index[word].append(doc_id)\n",
        "\n",
        "# Convert defaultdict to a regular dictionary\n",
        "inverted_index = dict(inverted_index)\n",
        "\n",
        "# End timing for inverted index creation\n",
        "end_time_index = time.time()\n",
        "index_creation_time = end_time_index - start_time_index"
      ]
    },
    {
      "cell_type": "code",
      "execution_count": 8,
      "metadata": {},
      "outputs": [
        {
          "name": "stdout",
          "output_type": "stream",
          "text": [
            "Inverted Index Creation Time: 27.1853 seconds\n",
            "\n"
          ]
        }
      ],
      "source": [
        "print(f\"Inverted Index Creation Time: {index_creation_time:.4f} seconds\\n\")"
      ]
    },
    {
      "cell_type": "code",
      "execution_count": 9,
      "metadata": {
        "id": "n99Km5AZCKG1"
      },
      "outputs": [],
      "source": [
        "# Function to get document frequency for a term\n",
        "def doc_frequency(term, inverted_index):\n",
        "    return len(inverted_index.get(term, []))\n",
        "\n",
        "# Function for boolean retrieval with sorting by term frequency and returning document count\n",
        "def boolean_retrieval(query, inverted_index, total_docs):\n",
        "    start_time_query = time.time()\n",
        "    \n",
        "    terms = query.lower().split()  # Tokenize the query\n",
        "    logical_operator = None\n",
        "    \n",
        "    # Determine logical operator and identify terms\n",
        "    if \"and\" in terms:\n",
        "        logical_operator = \"and\"\n",
        "        term1, term2 = terms[0], terms[2]\n",
        "    elif \"or\" in terms:\n",
        "        logical_operator = \"or\"\n",
        "        term1, term2 = terms[0], terms[2]\n",
        "    elif \"not\" in terms:\n",
        "        logical_operator = \"not\"\n",
        "        term1, term2 = terms[0], terms[2]\n",
        "    else:\n",
        "        # Single term query\n",
        "        term1 = terms[0]\n",
        "        result_set = set(inverted_index.get(term1, []))\n",
        "        end_time_query = time.time()\n",
        "        query_time = end_time_query - start_time_query\n",
        "        return result_set, len(result_set), query_time\n",
        "\n",
        "    # Sort terms by document frequency (smallest first)\n",
        "    sorted_terms = sorted([term1, term2], key=lambda term: doc_frequency(term, inverted_index))\n",
        "\n",
        "    # Perform AND operation\n",
        "    if logical_operator == \"and\":\n",
        "        if sorted_terms[0] in inverted_index and sorted_terms[1] in inverted_index:\n",
        "            result_set = set(inverted_index[sorted_terms[0]]) & set(inverted_index[sorted_terms[1]])  # Intersection\n",
        "        else:\n",
        "            result_set = set()  # Return empty set if any term not found\n",
        "\n",
        "    # Perform OR operation\n",
        "    elif logical_operator == \"or\":\n",
        "        docs_term1 = set(inverted_index.get(sorted_terms[0], []))\n",
        "        docs_term2 = set(inverted_index.get(sorted_terms[1], []))\n",
        "        result_set = docs_term1 | docs_term2  # Union\n",
        "\n",
        "    # Perform NOT operation\n",
        "    elif logical_operator == \"not\":\n",
        "        if sorted_terms[0] in inverted_index:\n",
        "            result_set = set(inverted_index[sorted_terms[0]]) - set(inverted_index.get(sorted_terms[1], []))  # Difference\n",
        "        else:\n",
        "            result_set = set()  # Return empty set if the first term not found\n",
        "    \n",
        "    end_time_query = time.time()\n",
        "    query_time = end_time_query - start_time_query\n",
        "    \n",
        "    return result_set, len(result_set), query_time"
      ]
    },
    {
      "cell_type": "code",
      "execution_count": 10,
      "metadata": {},
      "outputs": [
        {
          "name": "stdout",
          "output_type": "stream",
          "text": [
            "Results for 'masyarakat and pemberlakuan not bisa': Document Count = 1187, Documents = {0, 2049, 14336, 10243, 4, 2052, 6, 2053, 8, 9, 10, 12620, 12621, 6154, 6155, 6158, 6160, 12622, 6167, 6168, 2076, 6173, 32, 10272, 2082, 2083, 2084, 10277, 2086, 6176, 2088, 6178, 10282, 10283, 6180, 10285, 6184, 2096, 10291, 6195, 6201, 10301, 10303, 6208, 4162, 4164, 4166, 6215, 6220, 77, 80, 81, 82, 2131, 4178, 85, 4179, 4181, 6225, 6230, 6231, 6233, 2140, 2141, 6235, 6236, 6237, 6238, 6240, 10339, 6241, 6242, 2150, 13860, 6244, 6246, 2155, 10349, 111, 2159, 113, 2161, 2162, 116, 117, 2163, 6260, 128, 133, 2187, 6283, 2189, 6284, 6285, 12432, 6288, 2199, 6295, 6297, 2209, 6313, 6314, 6316, 6317, 6319, 178, 6322, 2228, 6323, 2230, 183, 6324, 2233, 6325, 10427, 6327, 6328, 6331, 6333, 6334, 6335, 6336, 6337, 6340, 6341, 6342, 6343, 6344, 6345, 6146, 6347, 6348, 6349, 2255, 6350, 2257, 2270, 4319, 6369, 234, 240, 245, 4351, 4355, 10500, 8454, 2310, 2311, 8458, 4365, 4372, 4374, 8472, 4377, 10524, 4381, 4388, 6437, 10534, 296, 4393, 6440, 8491, 6443, 12591, 4402, 2357, 6453, 4407, 12599, 8505, 2361, 10554, 2363, 2365, 4409, 2367, 2368, 2369, 2370, 2371, 2372, 12604, 12610, 12612, 4421, 8521, 2377, 2378, 10570, 8525, 2380, 10573, 2382, 2385, 2386, 12619, 8532, 2388, 8534, 2390, 2391, 2393, 12630, 6487, 6488, 6491, 6492, 4447, 2402, 2404, 8549, 2405, 4454, 4456, 2409, 4459, 4462, 8559, 2416, 8562, 8563, 375, 4471, 4472, 2426, 4475, 4476, 4477, 8576, 8577, 8578, 2433, 2434, 6533, 6534, 2439, 6536, 8588, 8589, 8591, 8592, 12688, 8594, 6544, 407, 2456, 409, 8601, 8602, 2457, 8605, 2461, 12700, 6557, 8610, 2466, 2467, 4514, 2470, 6567, 2472, 2473, 2474, 8619, 6570, 6573, 2481, 2482, 2483, 2484, 8629, 2485, 2486, 4535, 6578, 6580, 2491, 8636, 2492, 4539, 6587, 2497, 8642, 4548, 12740, 12752, 6608, 6609, 6611, 6613, 6616, 4570, 6618, 476, 2524, 6619, 12768, 6627, 2533, 6629, 498, 6644, 501, 2549, 6649, 508, 4606, 6655, 4608, 6657, 6659, 4616, 6666, 4620, 6668, 8718, 4622, 528, 4624, 530, 6669, 6670, 6671, 6672, 6673, 6674, 6676, 538, 6677, 540, 12830, 6689, 12834, 549, 6694, 12843, 12847, 6704, 4657, 568, 10822, 583, 8776, 4681, 12874, 8780, 8784, 8785, 10832, 10833, 10837, 10838, 12885, 6743, 8794, 10842, 605, 8798, 8797, 10846, 609, 610, 8801, 8802, 8803, 2655, 8807, 10847, 2657, 2659, 2662, 2665, 10860, 10861, 2670, 624, 8817, 4720, 2677, 10869, 8824, 10874, 635, 8827, 8835, 10884, 8837, 2696, 10891, 8844, 8847, 8848, 10897, 658, 10898, 8863, 672, 10913, 675, 8867, 678, 679, 680, 8872, 8874, 10918, 688, 7871, 690, 691, 8883, 8885, 694, 2741, 696, 8888, 698, 699, 8890, 8891, 10933, 703, 2750, 705, 2755, 8901, 8902, 2757, 8909, 8910, 2768, 2769, 8916, 2773, 8919, 8921, 8922, 2780, 8925, 4831, 10978, 2790, 2794, 2795, 2796, 13038, 2803, 4852, 2808, 780, 782, 784, 790, 791, 801, 4897, 8997, 2890, 845, 847, 2895, 2896, 9050, 9053, 872, 2922, 876, 9068, 2925, 9071, 9072, 9074, 9076, 9077, 11125, 7030, 11135, 2947, 9092, 2948, 2949, 11139, 2951, 7044, 7045, 7049, 7050, 11154, 2963, 11155, 917, 9110, 9111, 2966, 9113, 11161, 11163, 7067, 2973, 9118, 9119, 9120, 9121, 9122, 11166, 11167, 11170, 11173, 11175, 11182, 11183, 9137, 11185, 9139, 11187, 9141, 11190, 11191, 9145, 9146, 11196, 9150, 9151, 9153, 9154, 11201, 11203, 11204, 970, 975, 3023, 3025, 3027, 3029, 3030, 3031, 3035, 988, 3038, 3039, 992, 994, 9187, 11236, 1009, 5107, 1012, 7161, 9210, 7163, 7165, 1026, 1043, 5144, 5145, 5146, 5148, 1054, 1055, 5153, 5155, 1060, 5156, 5157, 1067, 13364, 1078, 1083, 5180, 5194, 1099, 13391, 13392, 13393, 13394, 7954, 11348, 13407, 13409, 4701, 5225, 13418, 5230, 11382, 11384, 7962, 9342, 9345, 3205, 4708, 9360, 11409, 5276, 11422, 9376, 9378, 3236, 5289, 3242, 9390, 3247, 11439, 11441, 9395, 9399, 11448, 13497, 13499, 3261, 3262, 3264, 3266, 5316, 3270, 5319, 13512, 3277, 3281, 3282, 3283, 11473, 1237, 3285, 3286, 3288, 3291, 3292, 11484, 11487, 11488, 11494, 1255, 13542, 13546, 1260, 13549, 11503, 7985, 11506, 13556, 1269, 1270, 1271, 1272, 7987, 1274, 11514, 11515, 11516, 13566, 11519, 11520, 11523, 13572, 11525, 3334, 7430, 11528, 13577, 3338, 11531, 13578, 13579, 11534, 14097, 11538, 1299, 3351, 11544, 11545, 5403, 7452, 11549, 1311, 1312, 3359, 1314, 1316, 11558, 1319, 3374, 1327, 1328, 13616, 11574, 3383, 3387, 3388, 11579, 11583, 3393, 11586, 5445, 5447, 5448, 1354, 3402, 5456, 3409, 5457, 5458, 1367, 3416, 11609, 5463, 5465, 1372, 3420, 5469, 1377, 5478, 1383, 1385, 1396, 1397, 1402, 1405, 1407, 11647, 5505, 7555, 1413, 11654, 7559, 9609, 7562, 9611, 11659, 7563, 7564, 9615, 1427, 7572, 9628, 11682, 7588, 1446, 7592, 1453, 1454, 7597, 7598, 7599, 7600, 1459, 7602, 1461, 1464, 3518, 11711, 5572, 7620, 9670, 7621, 7623, 1481, 9676, 9677, 3534, 7628, 9680, 1489, 9682, 11728, 1492, 3537, 9686, 5584, 7634, 7640, 9690, 11738, 9692, 11739, 11740, 9695, 1504, 9697, 3549, 11743, 11744, 11745, 11749, 1511, 1512, 1513, 1514, 9705, 11752, 11753, 3565, 11758, 9712, 13802, 13807, 13811, 1524, 1525, 1526, 11765, 11767, 13812, 9722, 13813, 13814, 11773, 1534, 9727, 9728, 13819, 13820, 9731, 1540, 1541, 1542, 11782, 7679, 11785, 7684, 7685, 7686, 7691, 13838, 1551, 13841, 13842, 1555, 13843, 13844, 7697, 7701, 1563, 9757, 11805, 11806, 9760, 7712, 11810, 13859, 3620, 3621, 11814, 1575, 1576, 1577, 3622, 3623, 11818, 3629, 11821, 13869, 3632, 11824, 7722, 7724, 1588, 9780, 13878, 5687, 7730, 7732, 11836, 13884, 11838, 7740, 13888, 7742, 7744, 1603, 7745, 7749, 7750, 3655, 11848, 1610, 11855, 3664, 3665, 13906, 3668, 13908, 3670, 3671, 3672, 3673, 13911, 3677, 3678, 7651, 3681, 3682, 3683, 3684, 13925, 3686, 13926, 13927, 11884, 7790, 11887, 9841, 5746, 11895, 3706, 5764, 11910, 13959, 13960, 11916, 1677, 1679, 11921, 11923, 9878, 13975, 13977, 3741, 9886, 11938, 11940, 1702, 13990, 1707, 3759, 7667, 3761, 11953, 3763, 7861, 7862, 7863, 3768, 3769, 3770, 1723, 3771, 3772, 11961, 3774, 11962, 11968, 14011, 3779, 14016, 7869, 1734, 14022, 7672, 7875, 7885, 7887, 1746, 3794, 3797, 7893, 3799, 14040, 7675, 11994, 3803, 7896, 6455, 7902, 3808, 9953, 3809, 7905, 7907, 3814, 3815, 7910, 3819, 6458, 4423, 7680, 1778, 12018, 5874, 5876, 6460, 1783, 4425, 5883, 7931, 3837, 7933, 3840, 1793, 13789, 5890, 5892, 13790, 7936, 5895, 1800, 7937, 13791, 7941, 5903, 1808, 1809, 1810, 12051, 1812, 3861, 1814, 12053, 10008, 12055, 3865, 5908, 5914, 14106, 1822, 1823, 3872, 14112, 5921, 3875, 1828, 1829, 3878, 3879, 5926, 7972, 5930, 7975, 3886, 3887, 13798, 3889, 14126, 13799, 5935, 3893, 3894, 5939, 3896, 3897, 5945, 3899, 12092, 7996, 5950, 3903, 5952, 12097, 3905, 5953, 7997, 3909, 7998, 7999, 8002, 8003, 12106, 10059, 8004, 8005, 5966, 5967, 8007, 8010, 8012, 12115, 8014, 8018, 6479, 12120, 14169, 12123, 12124, 14172, 5982, 12127, 8028, 5985, 14177, 5987, 8036, 12133, 12134, 8041, 12141, 12142, 12144, 6000, 12148, 12151, 12152, 12153, 12154, 8055, 1916, 6013, 14205, 8059, 8060, 6017, 14210, 3972, 8070, 3978, 12170, 6030, 12175, 8079, 8081, 8083, 6036, 12182, 7713, 8088, 6045, 6046, 13821, 14243, 6052, 12200, 12201, 12202, 6057, 4012, 12602, 12206, 4016, 12603, 7718, 12211, 6068, 4021, 12213, 8113, 4024, 8114, 12218, 7720, 12220, 8119, 4030, 12223, 4032, 4033, 12224, 6081, 8125, 12229, 12230, 8127, 12233, 4044, 12236, 4046, 12237, 12242, 12243, 12245, 4054, 12246, 12248, 4057, 4058, 12249, 4062, 4064, 4065, 4066, 4069, 4070, 2023, 2025, 2026, 4073, 2028, 4078, 2031, 12615, 2033, 4081, 2035, 2036, 6130, 6131, 6134, 2043, 2046}, Time Taken = 0.0000 seconds\n"
          ]
        }
      ],
      "source": [
        "query1 = \"masyarakat and pemberlakuan not bisa\"\n",
        "# Perform Boolean Retrieval\n",
        "result1, count1, time1 = boolean_retrieval(query1, inverted_index, total_docs=len(df))\n",
        "print(f\"Results for '{query1}': Document Count = {count1}, Documents = {result1}, Time Taken = {time1:.4f} seconds\")"
      ]
    },
    {
      "cell_type": "code",
      "execution_count": 11,
      "metadata": {},
      "outputs": [
        {
          "name": "stdout",
          "output_type": "stream",
          "text": [
            "Results for 'bisa or pada and negara': Document Count = 5006, Documents = {0, 6, 12, 13, 14, 15, 18, 19, 22, 23, 25, 26, 29, 30, 31, 35, 38, 39, 40, 41, 42, 44, 45, 47, 48, 49, 51, 54, 55, 56, 57, 61, 62, 63, 64, 66, 67, 71, 73, 75, 78, 80, 81, 82, 85, 86, 87, 88, 92, 96, 97, 99, 100, 101, 103, 104, 105, 108, 109, 110, 111, 112, 114, 119, 123, 125, 126, 127, 129, 130, 133, 138, 140, 143, 146, 148, 149, 151, 153, 154, 157, 158, 161, 164, 167, 168, 169, 171, 172, 181, 182, 185, 190, 191, 192, 193, 194, 195, 197, 198, 199, 202, 203, 204, 206, 207, 208, 209, 211, 212, 213, 214, 215, 216, 218, 229, 244, 245, 258, 259, 261, 264, 265, 267, 273, 274, 277, 279, 280, 281, 283, 288, 290, 294, 296, 297, 298, 302, 303, 305, 306, 310, 311, 313, 314, 315, 317, 318, 320, 321, 322, 325, 327, 328, 336, 338, 340, 342, 343, 344, 345, 346, 347, 349, 350, 351, 352, 353, 354, 355, 356, 357, 358, 361, 362, 363, 364, 366, 367, 368, 369, 370, 371, 373, 374, 376, 377, 378, 380, 381, 382, 385, 386, 387, 388, 389, 390, 391, 392, 393, 394, 395, 396, 397, 398, 399, 400, 401, 402, 403, 404, 405, 406, 408, 410, 411, 412, 413, 414, 415, 416, 417, 418, 419, 420, 421, 422, 423, 424, 425, 427, 428, 429, 430, 431, 432, 433, 434, 435, 436, 437, 438, 439, 440, 442, 443, 444, 445, 446, 447, 448, 449, 450, 452, 454, 456, 457, 458, 459, 460, 461, 462, 463, 464, 467, 468, 469, 470, 471, 472, 473, 474, 475, 477, 478, 479, 480, 481, 483, 484, 485, 486, 487, 488, 489, 490, 492, 493, 495, 498, 502, 506, 507, 508, 510, 512, 513, 516, 517, 523, 525, 527, 528, 538, 543, 546, 548, 553, 555, 558, 562, 563, 569, 570, 574, 579, 582, 588, 593, 595, 600, 602, 603, 604, 610, 611, 621, 623, 625, 626, 631, 633, 636, 639, 640, 641, 642, 650, 653, 654, 656, 657, 658, 661, 662, 663, 665, 668, 669, 671, 688, 689, 690, 691, 695, 696, 697, 698, 699, 701, 705, 707, 711, 718, 720, 721, 723, 724, 725, 726, 727, 730, 731, 732, 736, 737, 739, 741, 742, 743, 744, 745, 746, 747, 748, 750, 751, 752, 753, 754, 758, 759, 760, 762, 763, 766, 773, 775, 776, 778, 779, 784, 789, 790, 791, 795, 796, 800, 802, 804, 810, 815, 817, 832, 838, 839, 842, 843, 852, 855, 857, 862, 864, 866, 869, 873, 874, 876, 879, 880, 881, 884, 885, 889, 898, 904, 906, 907, 909, 910, 911, 912, 913, 914, 915, 917, 918, 920, 923, 926, 927, 931, 934, 935, 937, 941, 942, 943, 944, 945, 946, 947, 949, 950, 952, 953, 955, 956, 958, 959, 961, 962, 963, 965, 968, 969, 970, 972, 973, 974, 975, 977, 980, 987, 988, 990, 994, 996, 997, 1002, 1003, 1008, 1011, 1012, 1019, 1021, 1028, 1030, 1032, 1033, 1035, 1036, 1038, 1040, 1042, 1046, 1050, 1053, 1054, 1055, 1057, 1058, 1061, 1066, 1068, 1069, 1073, 1074, 1076, 1078, 1080, 1083, 1094, 1102, 1123, 1124, 1138, 1143, 1145, 1153, 1164, 1178, 1180, 1183, 1184, 1186, 1187, 1192, 1197, 1198, 1202, 1203, 1205, 1209, 1211, 1212, 1215, 1217, 1219, 1228, 1230, 1231, 1232, 1233, 1234, 1236, 1238, 1239, 1240, 1243, 1245, 1248, 1249, 1251, 1253, 1256, 1257, 1265, 1267, 1270, 1271, 1273, 1277, 1278, 1280, 1283, 1285, 1286, 1290, 1297, 1299, 1303, 1304, 1305, 1306, 1313, 1314, 1315, 1316, 1318, 1324, 1325, 1327, 1328, 1329, 1331, 1332, 1336, 1338, 1340, 1342, 1344, 1345, 1346, 1348, 1350, 1352, 1362, 1363, 1365, 1367, 1370, 1371, 1372, 1376, 1380, 1383, 1384, 1385, 1389, 1390, 1395, 1396, 1397, 1398, 1400, 1402, 1404, 1405, 1408, 1410, 1413, 1414, 1415, 1416, 1417, 1423, 1424, 1425, 1439, 1443, 1445, 1446, 1447, 1450, 1452, 1454, 1455, 1457, 1461, 1471, 1474, 1479, 1482, 1484, 1489, 1494, 1498, 1500, 1501, 1512, 1521, 1525, 1526, 1527, 1528, 1531, 1533, 1535, 1537, 1538, 1540, 1543, 1546, 1548, 1549, 1555, 1558, 1559, 1563, 1564, 1565, 1572, 1575, 1577, 1604, 1605, 1606, 1613, 1614, 1616, 1617, 1618, 1623, 1628, 1629, 1630, 1631, 1632, 1636, 1638, 1639, 1640, 1641, 1646, 1649, 1650, 1657, 1658, 1659, 1660, 1662, 1663, 1665, 1669, 1671, 1672, 1674, 1680, 1686, 1688, 1690, 1693, 1696, 1704, 1708, 1711, 1714, 1720, 1722, 1729, 1732, 1735, 1737, 1738, 1740, 1741, 1749, 1750, 1759, 1760, 1761, 1764, 1772, 1784, 1794, 1806, 1810, 1813, 1815, 1821, 1822, 1825, 1827, 1831, 1833, 1834, 1836, 1837, 1840, 1841, 1844, 1845, 1847, 1848, 1851, 1852, 1854, 1856, 1857, 1858, 1860, 1861, 1862, 1863, 1865, 1866, 1868, 1869, 1870, 1871, 1873, 1875, 1877, 1880, 1881, 1882, 1884, 1885, 1886, 1888, 1889, 1890, 1892, 1895, 1898, 1899, 1902, 1903, 1904, 1905, 1907, 1908, 1909, 1910, 1911, 1912, 1913, 1914, 1915, 1917, 1918, 1919, 1920, 1922, 1924, 1925, 1927, 1928, 1929, 1930, 1932, 1933, 1934, 1935, 1937, 1939, 1941, 1942, 1944, 1947, 1949, 1950, 1952, 1954, 1956, 1957, 1960, 1964, 1965, 1967, 1968, 1969, 1976, 1980, 1982, 1986, 1992, 2002, 2006, 2007, 2010, 2012, 2014, 2017, 2019, 2022, 2023, 2024, 2025, 2029, 2030, 2033, 2034, 2038, 2039, 2040, 2042, 2043, 2045, 2046, 2047, 2050, 2058, 2059, 2060, 2061, 2062, 2063, 2065, 2068, 2070, 2071, 2074, 2077, 2078, 2079, 2080, 2083, 2085, 2086, 2092, 2093, 2097, 2100, 2106, 2109, 2121, 2122, 2123, 2129, 2138, 2141, 2149, 2152, 2153, 2155, 2162, 2163, 2166, 2167, 2168, 2172, 2175, 2176, 2177, 2184, 2188, 2199, 2202, 2204, 2208, 2212, 2213, 2214, 2215, 2228, 2233, 2236, 2237, 2239, 2243, 2248, 2254, 2256, 2257, 2258, 2259, 2260, 2263, 2264, 2266, 2267, 2269, 2270, 2272, 2273, 2275, 2276, 2277, 2278, 2283, 2284, 2287, 2289, 2290, 2292, 2293, 2294, 2296, 2300, 2302, 2303, 2312, 2316, 2317, 2319, 2320, 2321, 2322, 2323, 2324, 2325, 2326, 2331, 2334, 2337, 2338, 2341, 2343, 2344, 2345, 2347, 2351, 2353, 2357, 2359, 2360, 2363, 2368, 2369, 2371, 2374, 2378, 2379, 2383, 2395, 2396, 2397, 2401, 2403, 2404, 2405, 2412, 2416, 2420, 2424, 2425, 2431, 2436, 2437, 2442, 2445, 2450, 2454, 2457, 2458, 2461, 2463, 2464, 2467, 2471, 2474, 2475, 2479, 2480, 2481, 2489, 2490, 2491, 2492, 2509, 2513, 2519, 2524, 2525, 2530, 2532, 2545, 2546, 2548, 2551, 2558, 2562, 2566, 2578, 2581, 2588, 2589, 2595, 2597, 2604, 2612, 2613, 2616, 2628, 2636, 2641, 2644, 2648, 2649, 2650, 2654, 2657, 2658, 2659, 2662, 2668, 2670, 2671, 2672, 2676, 2682, 2683, 2684, 2686, 2688, 2696, 2701, 2702, 2703, 2704, 2708, 2711, 2716, 2720, 2722, 2725, 2728, 2731, 2732, 2734, 2737, 2740, 2741, 2744, 2749, 2750, 2751, 2753, 2754, 2755, 2756, 2757, 2759, 2760, 2763, 2767, 2768, 2769, 2771, 2772, 2773, 2774, 2775, 2776, 2777, 2779, 2780, 2781, 2783, 2784, 2785, 2787, 2788, 2790, 2792, 2794, 2796, 2799, 2801, 2809, 2810, 2813, 2815, 2816, 2821, 2822, 2823, 2826, 2827, 2829, 2831, 2836, 2843, 2847, 2848, 2851, 2854, 2855, 2872, 2874, 2875, 2878, 2882, 2886, 2893, 2894, 2897, 2898, 2901, 2904, 2905, 2906, 2907, 2910, 2911, 2912, 2924, 2934, 2942, 2944, 2951, 2957, 2961, 2962, 2965, 2974, 2979, 2980, 2985, 3001, 3010, 3029, 3041, 3042, 3044, 3045, 3052, 3057, 3064, 3072, 3074, 3076, 3080, 3082, 3083, 3084, 3093, 3103, 3104, 3138, 3141, 3143, 3145, 3148, 3151, 3153, 3159, 3162, 3168, 3174, 3180, 3184, 3189, 3190, 3192, 3193, 3194, 3195, 3196, 3202, 3207, 3208, 3210, 3212, 3213, 3214, 3216, 3217, 3218, 3219, 3220, 3223, 3224, 3225, 3228, 3231, 3233, 3235, 3236, 3237, 3240, 3242, 3246, 3247, 3249, 3254, 3258, 3260, 3266, 3271, 3272, 3273, 3277, 3280, 3281, 3289, 3293, 3294, 3302, 3303, 3305, 3307, 3311, 3312, 3313, 3318, 3323, 3325, 3328, 3330, 3333, 3339, 3341, 3342, 3344, 3345, 3346, 3347, 3348, 3350, 3351, 3352, 3354, 3355, 3356, 3360, 3363, 3367, 3368, 3369, 3371, 3373, 3376, 3380, 3382, 3385, 3386, 3391, 3394, 3395, 3396, 3400, 3401, 3405, 3406, 3407, 3408, 3410, 3411, 3412, 3413, 3414, 3416, 3419, 3421, 3422, 3424, 3425, 3428, 3431, 3432, 3433, 3435, 3436, 3438, 3440, 3441, 3445, 3449, 3451, 3452, 3454, 3456, 3458, 3459, 3461, 3462, 3463, 3465, 3468, 3470, 3472, 3473, 3475, 3476, 3477, 3479, 3481, 3486, 3489, 3495, 3496, 3502, 3505, 3507, 3509, 3513, 3514, 3515, 3519, 3520, 3528, 3529, 3531, 3537, 3538, 3540, 3543, 3547, 3549, 3550, 3551, 3554, 3557, 3558, 3559, 3561, 3562, 3563, 3564, 3565, 3570, 3572, 3574, 3575, 3577, 3579, 3580, 3584, 3585, 3586, 3587, 3589, 3592, 3593, 3596, 3597, 3598, 3602, 3603, 3604, 3613, 3614, 3616, 3617, 3618, 3619, 3621, 3629, 3630, 3631, 3636, 3646, 3650, 3651, 3657, 3661, 3662, 3664, 3665, 3667, 3671, 3686, 3689, 3691, 3692, 3693, 3694, 3697, 3701, 3702, 3709, 3711, 3714, 3721, 3724, 3725, 3726, 3728, 3729, 3731, 3735, 3738, 3739, 3749, 3751, 3754, 3756, 3757, 3760, 3764, 3770, 3774, 3776, 3781, 3782, 3783, 3789, 3793, 3794, 3795, 3796, 3800, 3819, 3837, 3849, 3854, 3857, 3859, 3863, 3866, 3870, 3875, 3881, 3892, 3902, 3909, 3913, 3915, 3916, 3917, 3918, 3919, 3920, 3926, 3928, 3931, 3937, 3946, 3951, 3956, 3957, 3958, 3961, 3963, 3964, 3965, 3967, 3977, 3979, 3982, 3983, 3991, 3992, 3999, 4001, 4003, 4009, 4014, 4015, 4017, 4018, 4021, 4023, 4025, 4028, 4033, 4034, 4035, 4037, 4039, 4040, 4044, 4045, 4047, 4052, 4054, 4056, 4057, 4060, 4061, 4062, 4063, 4065, 4067, 4068, 4069, 4071, 4076, 4077, 4078, 4080, 4081, 4083, 4085, 4086, 4088, 4089, 4090, 4091, 4097, 4099, 4103, 4104, 4105, 4108, 4110, 4113, 4115, 4116, 4117, 4118, 4121, 4123, 4124, 4128, 4129, 4130, 4131, 4132, 4135, 4136, 4137, 4138, 4139, 4140, 4141, 4145, 4148, 4150, 4151, 4153, 4154, 4156, 4157, 4164, 4166, 4169, 4175, 4177, 4179, 4182, 4184, 4187, 4188, 4190, 4192, 4194, 4199, 4203, 4207, 4210, 4216, 4220, 4221, 4222, 4224, 4228, 4232, 4233, 4234, 4235, 4237, 4239, 4242, 4246, 4248, 4253, 4254, 4258, 4260, 4263, 4265, 4268, 4270, 4271, 4272, 4273, 4275, 4276, 4277, 4280, 4281, 4282, 4283, 4288, 4289, 4290, 4292, 4293, 4296, 4297, 4299, 4304, 4307, 4311, 4312, 4313, 4315, 4316, 4317, 4319, 4322, 4324, 4325, 4326, 4328, 4332, 4333, 4335, 4336, 4338, 4339, 4340, 4342, 4345, 4348, 4351, 4354, 4359, 4363, 4365, 4366, 4367, 4368, 4369, 4372, 4378, 4380, 4385, 4391, 4393, 4394, 4397, 4398, 4399, 4401, 4402, 4403, 4407, 4412, 4413, 4415, 4420, 4421, 4425, 4426, 4430, 4438, 4439, 4442, 4443, 4444, 4445, 4447, 4448, 4450, 4452, 4453, 4455, 4456, 4457, 4458, 4459, 4460, 4462, 4463, 4464, 4466, 4470, 4471, 4472, 4473, 4475, 4476, 4477, 4479, 4482, 4483, 4484, 4486, 4488, 4496, 4497, 4500, 4504, 4508, 4509, 4510, 4511, 4512, 4513, 4517, 4523, 4531, 4534, 4535, 4537, 4538, 4539, 4540, 4541, 4544, 4545, 4546, 4549, 4550, 4551, 4558, 4559, 4560, 4561, 4562, 4567, 4568, 4577, 4578, 4582, 4584, 4586, 4588, 4590, 4592, 4595, 4596, 4599, 4600, 4603, 4605, 4606, 4607, 4613, 4617, 4620, 4623, 4627, 4632, 4634, 4637, 4644, 4645, 4649, 4654, 4658, 4660, 4662, 4667, 4668, 4671, 4675, 4678, 4679, 4682, 4689, 4692, 4694, 4705, 4708, 4711, 4712, 4715, 4716, 4717, 4718, 4719, 4723, 4724, 4728, 4729, 4730, 4733, 4734, 4735, 4736, 4737, 4748, 4750, 4752, 4753, 4758, 4760, 4762, 4764, 4765, 4766, 4767, 4768, 4773, 4774, 4775, 4776, 4778, 4780, 4781, 4783, 4785, 4787, 4788, 4790, 4791, 4793, 4794, 4796, 4799, 4800, 4802, 4803, 4805, 4807, 4810, 4811, 4812, 4813, 4814, 4815, 4819, 4821, 4823, 4827, 4829, 4834, 4836, 4838, 4839, 4842, 4843, 4844, 4845, 4847, 4849, 4852, 4855, 4856, 4862, 4864, 4869, 4876, 4877, 4878, 4880, 4886, 4888, 4890, 4892, 4894, 4895, 4898, 4899, 4900, 4902, 4903, 4905, 4909, 4911, 4914, 4915, 4916, 4917, 4924, 4930, 4931, 4935, 4936, 4940, 4941, 4943, 4944, 4952, 4954, 4956, 4957, 4964, 4969, 4970, 4975, 4979, 4982, 4983, 4987, 4988, 4989, 4992, 4994, 5010, 5012, 5013, 5016, 5018, 5020, 5022, 5027, 5034, 5038, 5040, 5044, 5045, 5046, 5048, 5049, 5052, 5058, 5061, 5064, 5065, 5066, 5067, 5073, 5074, 5075, 5076, 5082, 5091, 5094, 5096, 5100, 5107, 5110, 5114, 5118, 5119, 5127, 5128, 5130, 5132, 5134, 5135, 5144, 5145, 5148, 5150, 5151, 5153, 5157, 5162, 5166, 5167, 5168, 5169, 5170, 5171, 5175, 5180, 5181, 5184, 5185, 5187, 5190, 5191, 5192, 5195, 5198, 5205, 5209, 5212, 5213, 5214, 5215, 5227, 5229, 5230, 5232, 5233, 5234, 5235, 5243, 5246, 5252, 5272, 5274, 5275, 5277, 5278, 5280, 5281, 5282, 5284, 5285, 5287, 5289, 5291, 5296, 5297, 5303, 5304, 5314, 5316, 5318, 5320, 5324, 5326, 5331, 5334, 5339, 5340, 5345, 5350, 5355, 5357, 5359, 5360, 5361, 5363, 5370, 5371, 5373, 5374, 5375, 5377, 5380, 5382, 5384, 5386, 5387, 5392, 5393, 5397, 5410, 5415, 5427, 5435, 5440, 5459, 5465, 5466, 5468, 5470, 5474, 5484, 5492, 5494, 5496, 5509, 5519, 5521, 5533, 5540, 5545, 5547, 5549, 5556, 5557, 5558, 5560, 5564, 5567, 5571, 5576, 5578, 5584, 5591, 5593, 5594, 5603, 5604, 5605, 5609, 5610, 5615, 5617, 5623, 5631, 5639, 5644, 5651, 5654, 5657, 5661, 5666, 5670, 5674, 5684, 5685, 5686, 5688, 5701, 5708, 5709, 5714, 5726, 5731, 5733, 5734, 5735, 5740, 5752, 5760, 5761, 5763, 5765, 5769, 5770, 5778, 5798, 5802, 5806, 5807, 5809, 5812, 5818, 5850, 5865, 5871, 5874, 5877, 5878, 5881, 5883, 5884, 5885, 5889, 5890, 5895, 5897, 5903, 5904, 5906, 5911, 5915, 5918, 5923, 5930, 5935, 5939, 5942, 5943, 5945, 5947, 5949, 5953, 5956, 5957, 5958, 5959, 5960, 5965, 5966, 5968, 5970, 5986, 5988, 5990, 5993, 5997, 5999, 6002, 6007, 6008, 6017, 6020, 6021, 6022, 6025, 6026, 6031, 6034, 6039, 6043, 6045, 6052, 6056, 6057, 6058, 6060, 6063, 6067, 6069, 6071, 6080, 6081, 6083, 6084, 6088, 6093, 6096, 6097, 6098, 6102, 6103, 6105, 6108, 6116, 6118, 6119, 6120, 6127, 6129, 6132, 6136, 6138, 6140, 6141, 6142, 6143, 6146, 6147, 6149, 6152, 6153, 6154, 6155, 6156, 6162, 6177, 6178, 6180, 6182, 6184, 6185, 6186, 6192, 6195, 6197, 6200, 6201, 6203, 6206, 6220, 6226, 6229, 6236, 6237, 6240, 6244, 6245, 6249, 6251, 6252, 6253, 6255, 6256, 6257, 6258, 6261, 6269, 6270, 6271, 6273, 6274, 6275, 6276, 6284, 6289, 6292, 6293, 6295, 6296, 6297, 6299, 6300, 6301, 6303, 6304, 6306, 6309, 6312, 6313, 6314, 6315, 6316, 6323, 6324, 6325, 6326, 6328, 6331, 6334, 6337, 6338, 6340, 6344, 6348, 6349, 6350, 6351, 6352, 6355, 6362, 6365, 6366, 6371, 6375, 6376, 6377, 6379, 6382, 6387, 6388, 6390, 6396, 6400, 6401, 6407, 6412, 6413, 6417, 6420, 6421, 6424, 6426, 6428, 6429, 6432, 6434, 6436, 6438, 6440, 6446, 6448, 6453, 6455, 6457, 6462, 6464, 6465, 6466, 6472, 6473, 6474, 6476, 6479, 6480, 6481, 6484, 6485, 6486, 6487, 6488, 6489, 6492, 6494, 6495, 6496, 6497, 6503, 6510, 6511, 6518, 6519, 6520, 6523, 6527, 6533, 6535, 6536, 6537, 6538, 6541, 6543, 6548, 6549, 6550, 6551, 6555, 6559, 6563, 6567, 6569, 6570, 6572, 6579, 6583, 6587, 6590, 6591, 6592, 6595, 6597, 6606, 6607, 6613, 6617, 6630, 6631, 6635, 6636, 6637, 6638, 6640, 6641, 6648, 6650, 6652, 6654, 6659, 6660, 6661, 6662, 6663, 6675, 6677, 6684, 6686, 6689, 6691, 6692, 6693, 6696, 6700, 6701, 6706, 6707, 6709, 6714, 6715, 6716, 6719, 6720, 6724, 6726, 6728, 6729, 6733, 6734, 6737, 6738, 6742, 6749, 6750, 6751, 6754, 6758, 6760, 6761, 6762, 6764, 6765, 6766, 6767, 6769, 6770, 6774, 6775, 6776, 6778, 6779, 6780, 6781, 6783, 6784, 6785, 6789, 6790, 6791, 6792, 6793, 6794, 6795, 6796, 6798, 6799, 6800, 6801, 6802, 6804, 6805, 6806, 6808, 6809, 6810, 6811, 6813, 6814, 6815, 6816, 6817, 6818, 6819, 6821, 6822, 6825, 6826, 6827, 6828, 6830, 6831, 6832, 6834, 6836, 6837, 6838, 6839, 6840, 6842, 6843, 6845, 6846, 6847, 6848, 6849, 6850, 6851, 6852, 6853, 6854, 6855, 6857, 6859, 6862, 6863, 6864, 6865, 6866, 6867, 6870, 6871, 6872, 6889, 6893, 6894, 6896, 6899, 6901, 6903, 6904, 6907, 6908, 6909, 6910, 6911, 6912, 6914, 6915, 6916, 6917, 6918, 6919, 6923, 6924, 6925, 6926, 6927, 6929, 6930, 6931, 6932, 6933, 6934, 6935, 6939, 6940, 6944, 6945, 6946, 6947, 6949, 6950, 6951, 6952, 6953, 6954, 6956, 6957, 6958, 6959, 6960, 6961, 6962, 6963, 6965, 6979, 6984, 6994, 7001, 7006, 7016, 7029, 7036, 7041, 7045, 7073, 7077, 7095, 7135, 7138, 7142, 7160, 7166, 7167, 7179, 7184, 7191, 7207, 7210, 7212, 7232, 7235, 7239, 7247, 7290, 7291, 7302, 7303, 7331, 7335, 7340, 7341, 7347, 7349, 7350, 7364, 7372, 7373, 7376, 7401, 7403, 7419, 7423, 7429, 7454, 7465, 7496, 7501, 7502, 7503, 7525, 7532, 7535, 7559, 7567, 7570, 7571, 7583, 7584, 7585, 7594, 7597, 7598, 7601, 7604, 7606, 7609, 7612, 7615, 7616, 7623, 7629, 7630, 7631, 7634, 7635, 7638, 7641, 7642, 7645, 7646, 7647, 7648, 7651, 7652, 7656, 7666, 7669, 7673, 7675, 7676, 7677, 7678, 7679, 7681, 7683, 7686, 7692, 7694, 7695, 7696, 7698, 7699, 7701, 7704, 7708, 7709, 7711, 7714, 7718, 7719, 7720, 7722, 7723, 7726, 7730, 7732, 7733, 7735, 7736, 7737, 7738, 7739, 7740, 7741, 7742, 7744, 7745, 7746, 7748, 7749, 7751, 7753, 7755, 7757, 7759, 7761, 7762, 7768, 7773, 7775, 7796, 7798, 7799, 7801, 7804, 7808, 7809, 7810, 7816, 7817, 7823, 7831, 7833, 7836, 7838, 7840, 7841, 7844, 7846, 7851, 7853, 7855, 7856, 7859, 7864, 7872, 7874, 7875, 7876, 7877, 7878, 7879, 7880, 7886, 7887, 7888, 7889, 7893, 7894, 7896, 7900, 7915, 7917, 7922, 7923, 7926, 7927, 7930, 7933, 7938, 7942, 7945, 7949, 7957, 7959, 7965, 7967, 7968, 7970, 7975, 7976, 7977, 7978, 7979, 7980, 7983, 7990, 7991, 7992, 7993, 7995, 7998, 7999, 8001, 8002, 8003, 8004, 8007, 8009, 8010, 8011, 8013, 8015, 8016, 8024, 8025, 8026, 8027, 8039, 8042, 8043, 8046, 8050, 8054, 8057, 8058, 8062, 8064, 8067, 8070, 8071, 8074, 8075, 8076, 8078, 8080, 8083, 8092, 8095, 8098, 8106, 8109, 8110, 8111, 8114, 8116, 8119, 8120, 8122, 8127, 8130, 8132, 8133, 8135, 8139, 8145, 8146, 8149, 8152, 8157, 8158, 8160, 8162, 8163, 8168, 8170, 8172, 8174, 8176, 8177, 8178, 8180, 8181, 8185, 8186, 8187, 8189, 8190, 8191, 8192, 8194, 8195, 8198, 8199, 8204, 8207, 8208, 8213, 8214, 8215, 8216, 8222, 8224, 8225, 8226, 8228, 8229, 8234, 8235, 8237, 8241, 8243, 8246, 8254, 8256, 8260, 8261, 8263, 8265, 8266, 8269, 8270, 8272, 8273, 8276, 8279, 8281, 8282, 8283, 8287, 8288, 8291, 8293, 8295, 8298, 8300, 8301, 8302, 8303, 8304, 8309, 8311, 8313, 8315, 8322, 8324, 8325, 8328, 8330, 8332, 8333, 8335, 8336, 8338, 8342, 8344, 8346, 8347, 8348, 8350, 8357, 8360, 8362, 8364, 8371, 8372, 8377, 8378, 8383, 8384, 8387, 8388, 8391, 8392, 8394, 8399, 8401, 8404, 8407, 8408, 8411, 8412, 8413, 8414, 8415, 8418, 8419, 8421, 8422, 8423, 8424, 8426, 8428, 8430, 8434, 8435, 8438, 8442, 8444, 8446, 8449, 8450, 8458, 8464, 8466, 8467, 8469, 8472, 8473, 8474, 8476, 8480, 8481, 8482, 8483, 8487, 8495, 8496, 8497, 8498, 8502, 8504, 8513, 8514, 8515, 8521, 8522, 8523, 8525, 8529, 8531, 8532, 8533, 8539, 8540, 8547, 8550, 8551, 8552, 8554, 8559, 8561, 8562, 8568, 8569, 8570, 8579, 8589, 8590, 8597, 8598, 8599, 8604, 8605, 8608, 8613, 8620, 8621, 8622, 8623, 8631, 8632, 8636, 8645, 8647, 8649, 8652, 8661, 8665, 8670, 8671, 8672, 8676, 8677, 8679, 8680, 8681, 8687, 8700, 8703, 8705, 8706, 8711, 8713, 8715, 8716, 8717, 8719, 8720, 8721, 8723, 8726, 8727, 8729, 8730, 8734, 8735, 8736, 8738, 8739, 8744, 8749, 8754, 8755, 8761, 8762, 8763, 8765, 8767, 8777, 8778, 8779, 8781, 8782, 8783, 8791, 8792, 8793, 8794, 8795, 8801, 8802, 8803, 8806, 8807, 8808, 8814, 8816, 8817, 8820, 8822, 8831, 8840, 8845, 8847, 8850, 8851, 8855, 8856, 8859, 8862, 8863, 8865, 8868, 8869, 8873, 8880, 8882, 8888, 8889, 8897, 8901, 8903, 8905, 8906, 8909, 8910, 8913, 8914, 8916, 8918, 8921, 8922, 8923, 8925, 8926, 8927, 8931, 8938, 8940, 8942, 8945, 8951, 8953, 8956, 8963, 8970, 8971, 8976, 8977, 8979, 8981, 8986, 8987, 8988, 8990, 8991, 8992, 8995, 8997, 8999, 9005, 9006, 9010, 9011, 9013, 9018, 9020, 9021, 9024, 9025, 9026, 9031, 9032, 9035, 9036, 9037, 9039, 9040, 9041, 9042, 9043, 9044, 9045, 9048, 9049, 9054, 9059, 9060, 9065, 9067, 9074, 9077, 9079, 9080, 9081, 9087, 9089, 9091, 9092, 9097, 9098, 9102, 9106, 9108, 9120, 9122, 9123, 9125, 9127, 9129, 9132, 9133, 9137, 9139, 9142, 9145, 9151, 9152, 9161, 9163, 9165, 9168, 9177, 9182, 9184, 9188, 9189, 9193, 9201, 9205, 9208, 9209, 9210, 9213, 9214, 9219, 9220, 9224, 9245, 9247, 9248, 9254, 9255, 9264, 9265, 9275, 9279, 9284, 9291, 9312, 9316, 9321, 9328, 9341, 9346, 9351, 9352, 9357, 9359, 9361, 9363, 9364, 9367, 9368, 9380, 9381, 9383, 9387, 9388, 9394, 9399, 9419, 9439, 9446, 9447, 9460, 9464, 9470, 9471, 9475, 9501, 9503, 9504, 9508, 9530, 9531, 9534, 9536, 9541, 9550, 9551, 9552, 9568, 9569, 9572, 9574, 9579, 9588, 9589, 9590, 9594, 9596, 9597, 9600, 9601, 9613, 9614, 9615, 9618, 9619, 9635, 9654, 9659, 9661, 9677, 9693, 9696, 9702, 9711, 9712, 9731, 9734, 9736, 9737, 9740, 9742, 9744, 9746, 9768, 9778, 9780, 9787, 9789, 9791, 9793, 9811, 9816, 9829, 9841, 9842, 9844, 9845, 9847, 9851, 9860, 9864, 9875, 9877, 9878, 9882, 9884, 9888, 9910, 9917, 9919, 9924, 9927, 9928, 9937, 9938, 9945, 9947, 9948, 9949, 9957, 9966, 9967, 9969, 9970, 9971, 9972, 9973, 9976, 9977, 9979, 9981, 9983, 9984, 9985, 9987, 9988, 9989, 9992, 9994, 9996, 9997, 9998, 9999, 10003, 10005, 10006, 10007, 10010, 10012, 10013, 10015, 10016, 10017, 10018, 10019, 10020, 10021, 10022, 10024, 10025, 10030, 10031, 10032, 10034, 10035, 10036, 10038, 10041, 10042, 10043, 10044, 10045, 10046, 10047, 10048, 10051, 10055, 10057, 10058, 10062, 10063, 10065, 10067, 10069, 10073, 10076, 10077, 10078, 10079, 10082, 10084, 10085, 10089, 10091, 10095, 10098, 10100, 10101, 10102, 10103, 10105, 10106, 10107, 10109, 10110, 10112, 10113, 10114, 10115, 10116, 10120, 10121, 10124, 10125, 10126, 10127, 10128, 10129, 10131, 10132, 10133, 10136, 10138, 10139, 10140, 10141, 10143, 10145, 10146, 10147, 10148, 10149, 10152, 10155, 10156, 10157, 10159, 10160, 10161, 10162, 10164, 10166, 10168, 10170, 10171, 10173, 10174, 10175, 10180, 10189, 10191, 10193, 10194, 10198, 10207, 10209, 10214, 10228, 10231, 10233, 10235, 10247, 10255, 10256, 10259, 10265, 10271, 10274, 10278, 10279, 10280, 10285, 10293, 10297, 10307, 10312, 10315, 10316, 10318, 10324, 10326, 10341, 10343, 10344, 10345, 10347, 10359, 10364, 10366, 10368, 10370, 10372, 10373, 10377, 10378, 10380, 10381, 10383, 10386, 10390, 10403, 10413, 10423, 10424, 10425, 10429, 10433, 10438, 10444, 10445, 10446, 10448, 10450, 10454, 10455, 10465, 10466, 10471, 10474, 10480, 10483, 10494, 10495, 10496, 10502, 10503, 10512, 10517, 10519, 10521, 10523, 10525, 10527, 10532, 10533, 10534, 10536, 10538, 10539, 10547, 10548, 10549, 10550, 10553, 10557, 10561, 10566, 10568, 10586, 10589, 10591, 10595, 10597, 10598, 10601, 10604, 10607, 10614, 10624, 10627, 10630, 10632, 10638, 10645, 10646, 10647, 10650, 10652, 10654, 10658, 10659, 10665, 10666, 10668, 10670, 10673, 10678, 10682, 10683, 10684, 10693, 10695, 10699, 10700, 10707, 10709, 10712, 10713, 10714, 10721, 10722, 10723, 10724, 10727, 10733, 10735, 10736, 10737, 10742, 10743, 10745, 10746, 10747, 10749, 10751, 10753, 10754, 10755, 10757, 10759, 10764, 10765, 10769, 10770, 10779, 10781, 10782, 10784, 10785, 10789, 10790, 10791, 10792, 10793, 10794, 10795, 10799, 10800, 10803, 10805, 10807, 10811, 10814, 10821, 10822, 10827, 10834, 10844, 10845, 10846, 10847, 10862, 10864, 10874, 10875, 10883, 10885, 10887, 10890, 10895, 10898, 10899, 10905, 10907, 10909, 10919, 10937, 10939, 10940, 10941, 10945, 10946, 10953, 10954, 10955, 10956, 10966, 10968, 10975, 10982, 10984, 10993, 10994, 11003, 11004, 11007, 11013, 11031, 11033, 11036, 11038, 11044, 11046, 11052, 11053, 11054, 11059, 11066, 11074, 11075, 11078, 11083, 11085, 11095, 11096, 11101, 11106, 11108, 11110, 11116, 11120, 11121, 11122, 11124, 11126, 11128, 11132, 11134, 11139, 11140, 11143, 11144, 11145, 11148, 11149, 11155, 11160, 11162, 11168, 11169, 11172, 11179, 11180, 11181, 11186, 11189, 11195, 11201, 11203, 11205, 11207, 11211, 11212, 11214, 11216, 11238, 11242, 11251, 11253, 11259, 11262, 11264, 11265, 11268, 11269, 11273, 11274, 11275, 11276, 11277, 11279, 11280, 11281, 11282, 11284, 11285, 11286, 11301, 11302, 11306, 11307, 11313, 11314, 11316, 11319, 11322, 11326, 11328, 11329, 11331, 11332, 11333, 11339, 11342, 11343, 11349, 11351, 11355, 11360, 11362, 11363, 11365, 11367, 11368, 11370, 11384, 11389, 11395, 11398, 11402, 11408, 11409, 11412, 11415, 11419, 11421, 11424, 11431, 11433, 11435, 11437, 11439, 11443, 11453, 11454, 11455, 11459, 11460, 11463, 11468, 11470, 11475, 11481, 11482, 11486, 11488, 11494, 11495, 11498, 11501, 11503, 11505, 11508, 11514, 11515, 11516, 11518, 11519, 11522, 11524, 11527, 11529, 11531, 11535, 11536, 11537, 11539, 11545, 11547, 11549, 11555, 11556, 11563, 11569, 11572, 11584, 11591, 11595, 11596, 11599, 11601, 11602, 11603, 11628, 11633, 11635, 11637, 11639, 11642, 11648, 11650, 11651, 11659, 11662, 11679, 11681, 11689, 11691, 11698, 11699, 11700, 11702, 11708, 11709, 11710, 11712, 11720, 11722, 11726, 11729, 11731, 11742, 11744, 11746, 11747, 11756, 11758, 11763, 11765, 11767, 11772, 11775, 11779, 11782, 11783, 11791, 11792, 11793, 11794, 11799, 11802, 11811, 11814, 11817, 11819, 11822, 11833, 11834, 11841, 11845, 11849, 11853, 11858, 11860, 11871, 11872, 11874, 11875, 11876, 11879, 11880, 11881, 11884, 11886, 11888, 11892, 11894, 11895, 11902, 11910, 11911, 11913, 11916, 11917, 11919, 11924, 11928, 11929, 11930, 11931, 11935, 11945, 11946, 11949, 11955, 11956, 11961, 11962, 11963, 11964, 11965, 11966, 11968, 11970, 11971, 11972, 11977, 11978, 11979, 11985, 11990, 11991, 11994, 11995, 11996, 11997, 11999, 12002, 12008, 12012, 12035, 12036, 12037, 12041, 12047, 12049, 12057, 12060, 12062, 12063, 12064, 12072, 12073, 12076, 12080, 12085, 12087, 12089, 12092, 12095, 12097, 12102, 12103, 12104, 12108, 12118, 12119, 12122, 12124, 12126, 12140, 12141, 12144, 12149, 12151, 12153, 12154, 12156, 12157, 12166, 12174, 12187, 12206, 12207, 12210, 12215, 12216, 12219, 12221, 12224, 12225, 12227, 12229, 12242, 12245, 12259, 12262, 12265, 12271, 12272, 12274, 12279, 12283, 12287, 12289, 12290, 12294, 12296, 12299, 12300, 12303, 12304, 12313, 12315, 12319, 12322, 12324, 12328, 12330, 12332, 12333, 12338, 12341, 12343, 12349, 12350, 12351, 12352, 12355, 12363, 12364, 12368, 12371, 12375, 12379, 12380, 12382, 12385, 12394, 12395, 12401, 12406, 12407, 12409, 12411, 12416, 12418, 12427, 12428, 12431, 12445, 12446, 12450, 12452, 12454, 12457, 12466, 12476, 12481, 12483, 12486, 12487, 12493, 12497, 12499, 12503, 12504, 12512, 12516, 12520, 12525, 12526, 12529, 12532, 12533, 12534, 12536, 12538, 12539, 12545, 12549, 12550, 12552, 12555, 12558, 12559, 12564, 12565, 12566, 12567, 12568, 12569, 12570, 12572, 12578, 12583, 12585, 12587, 12588, 12589, 12590, 12591, 12592, 12593, 12594, 12596, 12602, 12603, 12604, 12608, 12612, 12619, 12620, 12625, 12626, 12631, 12634, 12635, 12637, 12638, 12639, 12640, 12646, 12648, 12653, 12656, 12658, 12661, 12664, 12669, 12671, 12674, 12676, 12679, 12683, 12684, 12689, 12690, 12693, 12694, 12696, 12697, 12698, 12700, 12701, 12704, 12711, 12712, 12713, 12718, 12719, 12721, 12723, 12725, 12727, 12730, 12731, 12735, 12737, 12739, 12741, 12748, 12749, 12752, 12753, 12755, 12756, 12757, 12758, 12760, 12764, 12768, 12771, 12773, 12774, 12778, 12781, 12783, 12786, 12791, 12794, 12796, 12797, 12800, 12805, 12806, 12809, 12811, 12817, 12820, 12821, 12824, 12828, 12829, 12830, 12839, 12840, 12842, 12843, 12846, 12847, 12848, 12850, 12851, 12853, 12854, 12864, 12869, 12870, 12873, 12874, 12877, 12878, 12879, 12881, 12886, 12887, 12888, 12890, 12892, 12896, 12901, 12902, 12904, 12905, 12907, 12908, 12909, 12911, 12912, 12913, 12914, 12915, 12916, 12917, 12919, 12920, 12921, 12922, 12923, 12924, 12925, 12926, 12928, 12929, 12930, 12931, 12932, 12933, 12934, 12935, 12936, 12937, 12938, 12939, 12940, 12941, 12942, 12943, 12945, 12946, 12947, 12948, 12949, 12950, 12952, 12953, 12954, 12955, 12957, 12958, 12959, 12960, 12961, 12962, 12963, 12964, 12965, 12966, 12968, 12969, 12970, 12971, 12972, 12973, 12974, 12976, 12977, 12978, 12979, 12980, 12981, 12982, 12983, 12984, 12985, 12986, 12987, 12988, 12989, 12990, 12991, 12992, 12993, 12994, 12995, 12996, 12997, 12998, 12999, 13000, 13001, 13002, 13003, 13004, 13005, 13006, 13007, 13008, 13009, 13011, 13012, 13013, 13014, 13015, 13016, 13017, 13018, 13019, 13021, 13022, 13023, 13024, 13025, 13026, 13027, 13028, 13029, 13030, 13031, 13032, 13033, 13034, 13035, 13036, 13037, 13038, 13039, 13040, 13041, 13042, 13043, 13044, 13045, 13047, 13048, 13051, 13052, 13053, 13055, 13056, 13058, 13059, 13060, 13062, 13064, 13065, 13066, 13067, 13068, 13069, 13070, 13071, 13072, 13073, 13074, 13075, 13076, 13077, 13078, 13079, 13080, 13081, 13082, 13083, 13084, 13085, 13086, 13087, 13088, 13089, 13090, 13091, 13093, 13094, 13095, 13096, 13097, 13098, 13100, 13101, 13102, 13103, 13104, 13105, 13106, 13107, 13108, 13109, 13110, 13111, 13112, 13113, 13114, 13115, 13116, 13117, 13118, 13119, 13120, 13121, 13122, 13123, 13125, 13126, 13127, 13128, 13129, 13130, 13131, 13132, 13133, 13134, 13135, 13137, 13138, 13139, 13140, 13141, 13142, 13143, 13144, 13145, 13146, 13148, 13149, 13150, 13151, 13152, 13153, 13155, 13156, 13157, 13158, 13159, 13161, 13162, 13163, 13164, 13165, 13166, 13167, 13168, 13169, 13171, 13172, 13173, 13175, 13176, 13177, 13178, 13179, 13180, 13181, 13182, 13183, 13184, 13186, 13187, 13188, 13189, 13190, 13191, 13192, 13193, 13195, 13196, 13197, 13198, 13199, 13201, 13202, 13233, 13286, 13298, 13304, 13305, 13324, 13332, 13345, 13346, 13356, 13364, 13376, 13388, 13405, 13406, 13428, 13434, 13447, 13460, 13461, 13473, 13474, 13485, 13495, 13499, 13500, 13501, 13502, 13505, 13506, 13507, 13508, 13509, 13510, 13517, 13519, 13520, 13521, 13523, 13526, 13527, 13529, 13530, 13533, 13534, 13535, 13537, 13539, 13540, 13541, 13544, 13545, 13547, 13548, 13552, 13553, 13554, 13555, 13556, 13557, 13558, 13559, 13562, 13563, 13564, 13567, 13568, 13569, 13571, 13572, 13575, 13576, 13577, 13579, 13580, 13583, 13584, 13585, 13588, 13589, 13591, 13592, 13593, 13594, 13598, 13599, 13602, 13603, 13605, 13607, 13609, 13612, 13616, 13618, 13619, 13620, 13621, 13625, 13626, 13627, 13628, 13630, 13631, 13632, 13634, 13636, 13637, 13638, 13640, 13641, 13642, 13648, 13651, 13652, 13654, 13655, 13656, 13658, 13659, 13661, 13663, 13665, 13666, 13668, 13669, 13672, 13673, 13674, 13679, 13681, 13682, 13683, 13684, 13687, 13688, 13690, 13691, 13692, 13693, 13694, 13695, 13696, 13697, 13698, 13699, 13700, 13701, 13704, 13706, 13707, 13709, 13710, 13711, 13714, 13715, 13717, 13719, 13720, 13722, 13723, 13725, 13726, 13727, 13729, 13730, 13731, 13733, 13735, 13736, 13739, 13740, 13742, 13745, 13746, 13747, 13748, 13749, 13751, 13752, 13753, 13757, 13759, 13760, 13762, 13763, 13766, 13768, 13772, 13778, 13783, 13786, 13787, 13788, 13790, 13791, 13807, 13811, 13813, 13814, 13819, 13820, 13821, 13829, 13837, 13838, 13840, 13841, 13844, 13848, 13852, 13853, 13859, 13864, 13868, 13869, 13876, 13878, 13886, 13890, 13891, 13894, 13897, 13898, 13905, 13906, 13912, 13918, 13931, 13937, 13942, 13948, 13949, 13952, 13956, 13958, 13959, 13965, 13968, 13970, 13971, 13972, 13975, 13976, 13977, 13978, 13987, 13988, 13989, 13990, 13993, 13997, 13999, 14008, 14014, 14016, 14020, 14022, 14023, 14027, 14030, 14031, 14038, 14040, 14041, 14047, 14050, 14054, 14055, 14063, 14066, 14068, 14077, 14079, 14084, 14095, 14097, 14105, 14106, 14107, 14109, 14111, 14121, 14135, 14136, 14137, 14138, 14145, 14147, 14149, 14150, 14151, 14153, 14155, 14157, 14163, 14165, 14170, 14171, 14173, 14176, 14178, 14179, 14181, 14184, 14186, 14187, 14199, 14202, 14209, 14210, 14211, 14212, 14214, 14220, 14221, 14223, 14224, 14227, 14229, 14231, 14232, 14233, 14236, 14238, 14240, 14246, 14248, 14250, 14255, 14256, 14262, 14264, 14265, 14266, 14267, 14270, 14273, 14274, 14279, 14280, 14284, 14285, 14286, 14289, 14290, 14291, 14292, 14293, 14294, 14295, 14296, 14301, 14302, 14303, 14304, 14305, 14306, 14307, 14308, 14309, 14311, 14312, 14314, 14315, 14316, 14317, 14318, 14319, 14320, 14321, 14322, 14323, 14324, 14325, 14326, 14327, 14328, 14329, 14330, 14331, 14332, 14334, 14335, 14336, 14337, 14338, 14339, 14340, 14341, 14342, 14343}, Time Taken = 0.0012 seconds\n"
          ]
        }
      ],
      "source": [
        "query2 = \"bisa or pada and negara\"\n",
        "# Perform Boolean Retrieval\n",
        "result2, count2, time2 = boolean_retrieval(query2, inverted_index, total_docs=len(df))\n",
        "print(f\"Results for '{query2}': Document Count = {count2}, Documents = {result2}, Time Taken = {time2:.4f} seconds\")"
      ]
    },
    {
      "cell_type": "code",
      "execution_count": 12,
      "metadata": {},
      "outputs": [
        {
          "name": "stdout",
          "output_type": "stream",
          "text": [
            "Results for 'rabu and warga': Document Count = 697, Documents = {0, 14343, 11, 8205, 10255, 8208, 12307, 10261, 12310, 12311, 8218, 4123, 8220, 10273, 10274, 10275, 12323, 10277, 4132, 12328, 12330, 2098, 8251, 12348, 2109, 12350, 8255, 12351, 12352, 8259, 2117, 10311, 2120, 10312, 75, 2123, 12366, 12368, 2129, 84, 12372, 2137, 12379, 8285, 8286, 12383, 2144, 8289, 8290, 12385, 10344, 10345, 10347, 10349, 10350, 111, 8309, 119, 12413, 8322, 8323, 8325, 8326, 2185, 12426, 10379, 10385, 10386, 10387, 10388, 157, 160, 8354, 8356, 8357, 10406, 8361, 8364, 12466, 12467, 10420, 10421, 6143, 8383, 8384, 2241, 2243, 2244, 8389, 12486, 12491, 12497, 12498, 10451, 12502, 12504, 6361, 8410, 8414, 8419, 10467, 10468, 10469, 8423, 8426, 8427, 12526, 243, 10483, 10484, 10489, 10491, 10493, 6406, 10511, 10512, 10513, 4373, 12566, 4375, 12570, 4379, 4382, 4383, 10534, 2357, 6456, 2363, 6459, 12608, 8514, 4420, 8517, 8522, 8525, 12624, 12643, 2404, 10597, 6502, 6506, 2413, 6510, 6511, 2417, 2419, 10638, 4494, 4498, 409, 2457, 411, 6562, 6563, 6564, 6565, 6566, 6567, 10665, 6569, 6571, 4526, 4529, 12721, 4531, 4534, 12729, 6586, 4547, 6608, 6609, 12757, 6613, 6618, 4576, 6631, 4591, 2549, 12798, 8703, 12801, 12807, 4616, 4619, 4623, 4629, 12834, 4644, 4645, 6692, 6700, 12845, 6701, 6704, 6706, 10809, 10811, 4677, 4684, 4685, 10838, 10840, 4700, 2654, 2658, 10850, 613, 2662, 2663, 2665, 8814, 4721, 10867, 635, 2694, 4751, 658, 10901, 10911, 10916, 10919, 10922, 10923, 4793, 10938, 4794, 10944, 10950, 10952, 4814, 8921, 10974, 4831, 4834, 4841, 4847, 10993, 11005, 4863, 4864, 4870, 8968, 4874, 4877, 783, 4880, 4883, 11028, 2837, 791, 11041, 11045, 4908, 9015, 4921, 4925, 4926, 4931, 11078, 11080, 4936, 4939, 2892, 4943, 4953, 4954, 11099, 4963, 4965, 9065, 9066, 9067, 9068, 7025, 11122, 4982, 4985, 4987, 7035, 4989, 4990, 7036, 11136, 9090, 9091, 11138, 4997, 11142, 5001, 2956, 909, 9105, 2962, 915, 2963, 2965, 5011, 2967, 5016, 11161, 13209, 11154, 7061, 7067, 5026, 5028, 9125, 7078, 5032, 5033, 11180, 5037, 5039, 9139, 9140, 11189, 9143, 7095, 955, 13245, 958, 13248, 13249, 5059, 964, 7108, 9164, 3022, 3023, 13262, 13268, 5077, 13270, 5083, 5087, 5088, 3041, 3042, 5097, 11245, 11246, 5102, 11254, 9209, 13306, 11263, 11265, 5125, 13318, 7174, 3080, 5128, 11275, 5133, 13326, 5135, 5136, 1048, 13338, 11291, 11292, 1053, 11293, 7196, 13350, 3113, 3114, 9259, 3116, 11307, 11308, 13353, 11312, 3121, 3122, 11313, 13362, 1077, 13364, 7214, 7221, 7223, 1082, 1083, 1084, 13373, 7228, 11327, 9280, 7229, 9282, 13380, 11333, 13384, 11337, 11338, 13385, 7245, 11348, 7259, 7261, 1118, 3166, 1120, 3167, 13406, 3171, 3172, 9317, 3174, 9319, 3176, 3177, 11368, 13417, 7274, 7277, 11374, 11375, 11376, 1139, 1145, 1147, 1153, 13444, 7300, 11401, 11402, 1163, 7308, 11405, 9357, 9358, 9359, 1168, 9360, 1170, 3215, 13463, 11418, 5276, 11422, 13472, 13476, 9383, 9395, 13492, 3261, 11459, 9423, 11474, 13526, 9439, 11487, 11488, 1252, 5363, 11518, 5375, 3328, 3346, 1299, 1300, 11548, 1311, 11555, 5417, 5418, 9516, 11569, 5430, 5431, 9528, 11580, 11582, 5442, 11588, 5451, 1362, 1363, 5461, 1370, 1371, 11613, 9566, 3430, 11622, 5478, 11633, 1395, 11635, 5493, 1398, 11638, 1402, 1403, 11644, 5504, 5505, 11652, 5509, 11661, 11663, 11665, 11666, 5525, 1438, 1441, 11682, 1443, 7588, 11685, 9639, 11687, 11688, 5546, 5548, 1453, 5549, 1460, 1463, 1465, 11705, 7212, 9667, 7213, 9681, 5588, 5589, 11741, 1502, 1505, 9697, 5602, 5606, 5608, 9708, 5615, 9712, 5616, 9714, 5617, 5633, 5634, 9732, 5640, 1545, 9747, 5651, 5652, 9753, 5659, 11809, 5671, 5672, 13865, 13866, 5677, 13874, 13877, 9782, 5686, 3643, 5691, 5693, 3646, 11841, 9799, 1610, 5709, 3663, 5720, 9820, 5731, 9829, 5738, 3691, 13930, 9837, 5740, 5741, 13931, 13936, 13939, 5754, 5757, 9855, 5760, 11905, 5762, 13961, 5780, 5783, 9883, 9891, 9894, 9895, 5799, 5800, 5801, 5803, 13997, 5807, 3764, 9909, 3765, 11958, 5812, 14006, 7262, 9918, 5836, 5837, 5842, 5843, 5845, 11990, 5854, 12001, 12002, 14051, 5860, 14053, 7910, 14055, 7912, 5865, 14058, 5867, 14059, 14061, 12014, 7913, 14064, 14065, 7915, 7917, 1794, 12039, 12041, 7951, 3870, 7967, 12067, 12076, 12077, 12080, 12083, 12084, 3895, 1857, 8003, 8008, 8009, 12109, 14165, 3931, 3934, 8032, 8034, 3941, 3942, 3957, 3959, 10104, 12152, 14200, 14208, 8082, 8083, 8087, 4000, 14240, 12205, 12206, 12207, 12208, 8110, 4018, 6066, 12212, 8117, 8118, 2023, 2025, 8174, 12271, 8176, 12276, 8180, 8181, 8184, 8185, 14330, 14332, 14334, 2047}, Time Taken = 0.0000 seconds\n"
          ]
        }
      ],
      "source": [
        "query3 = \"rabu and warga\"\n",
        "# Perform Boolean Retrieval\n",
        "result3, count3, time3 = boolean_retrieval(query3, inverted_index, total_docs=len(df))\n",
        "print(f\"Results for '{query3}': Document Count = {count3}, Documents = {result3}, Time Taken = {time3:.4f} seconds\")"
      ]
    },
    {
      "cell_type": "code",
      "execution_count": 13,
      "metadata": {},
      "outputs": [
        {
          "name": "stdout",
          "output_type": "stream",
          "text": [
            "Results for 'hukum and sosialisasi not pemberlakuan': Document Count = 63, Documents = {0, 14336, 9728, 3203, 3842, 389, 8454, 10502, 8584, 8588, 9486, 8465, 4375, 11418, 1051, 4381, 3741, 8094, 13600, 11680, 14241, 10277, 2086, 10917, 168, 8874, 12075, 9908, 2357, 10295, 697, 11963, 6716, 4924, 11964, 1343, 11965, 3009, 11966, 11203, 11968, 7882, 1237, 12891, 3677, 7650, 4066, 10346, 8939, 10860, 6637, 6638, 5229, 11628, 9706, 9712, 11884, 5364, 12141, 14319, 8059, 5372, 2814}, Time Taken = 0.0000 seconds\n"
          ]
        }
      ],
      "source": [
        "query4 = \"hukum and sosialisasi not pemberlakuan\"\n",
        "# Perform Boolean Retrieval\n",
        "result4, count4, time4 = boolean_retrieval(query4, inverted_index, total_docs=len(df))\n",
        "print(f\"Results for '{query4}': Document Count = {count4}, Documents = {result4}, Time Taken = {time4:.4f} seconds\")"
      ]
    },
    {
      "cell_type": "code",
      "execution_count": 14,
      "metadata": {},
      "outputs": [
        {
          "name": "stdout",
          "output_type": "stream",
          "text": [
            "Results for 'orang or warga and sosialisasi': Document Count = 1620, Documents = {0, 8201, 8202, 11, 8206, 8207, 8208, 8215, 8222, 8224, 8226, 8229, 8232, 8233, 8243, 8244, 8246, 8255, 8260, 8261, 8266, 75, 8267, 8268, 8270, 8272, 8275, 84, 8277, 8285, 8286, 8290, 8291, 8292, 8295, 8302, 111, 8309, 8311, 119, 8312, 128, 8322, 131, 8323, 8328, 137, 8333, 143, 8341, 8342, 8343, 155, 157, 160, 8353, 8354, 8356, 8357, 8364, 8366, 8369, 8370, 8374, 8377, 8382, 8384, 8389, 204, 205, 8396, 8399, 215, 8410, 8411, 8413, 8418, 8419, 8423, 8426, 8427, 8435, 8437, 8442, 8445, 8446, 8447, 8450, 8452, 8462, 8482, 8483, 8485, 8496, 8508, 8546, 372, 8564, 8565, 8566, 8569, 380, 384, 8579, 396, 405, 416, 8614, 439, 8638, 459, 461, 468, 8660, 8662, 8663, 8670, 8671, 487, 8694, 8698, 8744, 8745, 8803, 613, 635, 8831, 658, 676, 8874, 8884, 8887, 697, 8922, 8927, 8952, 782, 791, 797, 818, 846, 851, 860, 861, 9053, 9054, 866, 9059, 873, 9065, 876, 9068, 881, 9073, 9080, 9090, 9091, 903, 909, 915, 9111, 9113, 9116, 926, 9120, 933, 9125, 9129, 939, 9134, 944, 947, 948, 949, 950, 9139, 9143, 955, 9147, 958, 964, 9157, 9164, 9167, 9172, 9179, 1004, 9209, 9213, 9219, 9221, 9222, 9223, 9224, 9225, 9226, 9235, 9244, 9245, 9247, 9248, 1063, 9259, 1068, 9268, 1082, 1083, 1084, 9282, 9285, 9286, 9290, 1112, 9305, 1118, 1123, 1124, 9319, 1128, 9322, 9323, 9327, 1138, 1145, 1147, 1153, 9345, 9346, 1156, 9351, 1163, 9357, 9360, 1170, 1171, 1172, 1217, 9415, 9423, 1232, 1241, 1244, 1246, 1252, 1283, 1306, 1319, 9516, 1363, 1364, 1370, 1371, 1376, 1384, 1385, 1395, 1398, 1402, 1403, 1405, 1414, 1415, 1417, 1422, 1423, 1425, 9617, 1443, 1446, 1453, 9650, 1460, 1463, 1465, 9657, 1469, 1470, 9661, 1473, 1474, 1475, 9667, 9669, 1479, 1480, 1485, 1486, 9681, 1493, 1496, 1497, 1498, 9691, 1502, 1505, 1510, 9703, 9712, 1527, 9721, 1535, 1536, 9732, 1542, 9740, 9741, 9750, 9753, 9766, 9771, 9773, 9799, 9808, 9813, 9820, 9840, 9857, 9863, 9866, 9872, 9875, 9883, 9885, 9890, 9900, 9901, 9906, 9907, 1717, 9909, 9934, 9944, 9952, 9960, 9962, 9979, 1790, 1814, 10030, 1846, 1847, 10046, 1857, 1876, 10093, 10104, 1928, 1939, 1954, 10159, 10160, 10164, 1977, 10170, 10171, 10181, 10185, 10188, 10191, 10200, 10202, 10207, 10213, 2023, 2025, 10226, 2039, 2040, 2047, 2050, 2051, 2052, 10243, 10248, 10252, 10254, 10255, 10257, 10261, 10263, 10266, 2079, 2080, 2083, 10275, 2086, 2098, 10300, 2109, 2111, 2117, 10312, 10315, 10318, 10319, 2129, 10324, 2133, 10325, 2136, 2138, 10333, 2143, 2144, 10337, 2147, 2148, 10340, 2152, 10345, 2156, 2157, 2158, 10360, 10364, 10365, 10373, 2187, 2188, 2192, 10386, 2195, 2196, 2197, 2198, 10388, 10390, 10393, 2202, 2204, 2207, 2208, 10400, 2210, 10401, 10402, 10405, 10406, 10407, 10415, 2225, 10421, 10426, 10430, 10432, 2243, 2248, 10440, 10441, 2253, 10451, 10453, 10460, 10462, 10475, 10476, 2292, 10484, 2296, 10488, 10489, 10493, 10497, 2308, 10501, 10505, 2320, 10512, 2327, 10521, 10523, 2357, 2363, 10565, 10571, 2383, 10592, 10594, 10597, 10598, 10601, 10603, 2417, 10616, 10620, 10621, 10622, 10629, 2439, 10631, 2444, 10636, 2457, 2461, 10665, 10672, 2491, 10685, 10686, 10687, 10692, 10693, 10695, 10697, 2507, 10718, 2536, 10730, 10734, 10743, 10753, 2565, 10759, 10762, 10764, 10765, 2581, 10774, 10777, 10779, 10781, 10790, 10792, 10793, 2612, 10805, 10808, 10809, 10811, 10814, 10815, 10817, 10824, 2644, 2649, 2654, 2657, 2658, 2662, 2665, 2670, 10867, 2676, 10870, 2683, 10881, 2694, 10891, 10901, 2712, 10911, 10915, 10916, 10919, 10928, 10934, 10935, 10950, 10952, 10961, 2771, 10963, 2773, 10965, 10974, 10978, 10993, 10996, 11009, 11015, 2825, 11019, 11025, 11028, 11031, 11034, 11041, 2857, 11060, 11062, 11078, 11080, 2897, 2898, 11097, 11098, 11100, 2917, 11113, 11122, 2934, 2936, 2938, 2939, 11132, 11133, 11136, 11142, 2955, 2956, 11150, 11154, 2965, 11161, 11162, 11165, 11172, 2983, 11175, 11180, 11181, 11183, 2997, 11189, 11191, 3001, 11193, 11204, 11208, 3022, 11221, 11225, 11232, 3042, 11234, 11236, 3045, 3052, 3053, 11245, 11246, 11251, 3060, 3061, 11253, 11254, 11256, 11257, 11263, 3083, 11275, 11276, 11277, 3087, 11279, 11283, 3093, 3094, 11287, 3096, 3098, 3100, 3102, 3105, 3106, 3113, 3114, 11308, 3121, 11314, 11316, 11317, 3130, 11327, 3136, 3141, 11333, 3144, 3150, 3151, 3153, 3154, 11348, 3166, 3167, 3171, 11363, 3174, 11367, 3176, 3177, 11372, 3181, 11373, 11376, 3187, 11380, 3199, 11392, 11393, 11401, 11405, 3215, 3220, 11418, 3227, 11433, 11436, 11439, 11441, 3251, 11444, 3254, 11449, 11450, 3259, 11452, 11470, 11471, 11474, 11476, 11478, 3295, 11487, 11488, 11496, 11498, 11512, 3322, 11525, 11528, 11529, 3338, 11535, 3346, 11540, 3354, 11548, 11550, 11552, 3363, 11555, 11559, 3368, 3369, 11562, 3371, 11563, 11564, 3377, 11569, 3382, 3383, 11574, 3385, 3388, 11580, 11583, 3393, 3394, 11590, 11593, 11594, 11595, 3405, 3410, 11603, 11606, 11607, 11608, 3420, 11613, 11616, 11622, 3435, 11627, 3438, 11631, 3440, 11633, 11638, 3450, 3452, 11644, 11649, 11661, 11665, 11666, 11669, 11671, 11673, 11674, 11675, 11685, 11688, 11695, 11696, 11698, 11699, 11705, 11741, 11744, 11750, 11751, 11765, 11795, 11809, 3621, 3622, 3631, 3633, 11825, 3635, 3639, 3643, 3646, 3648, 11841, 3652, 3655, 11854, 3663, 3667, 11862, 3671, 11868, 11875, 3696, 3699, 11892, 11898, 11902, 3713, 11905, 3718, 3723, 3764, 3765, 11958, 11990, 11999, 12001, 3819, 12012, 12013, 12014, 12015, 12016, 3835, 12027, 12033, 12039, 12046, 12047, 3857, 12050, 3865, 12059, 12060, 12061, 3870, 12065, 3882, 3883, 3884, 12074, 12076, 12083, 3899, 3901, 3908, 3910, 3915, 12108, 12110, 3921, 3922, 12113, 3925, 12117, 3929, 3931, 3934, 12128, 3939, 3940, 3942, 12138, 3967, 3969, 3980, 12178, 3987, 3988, 3990, 3991, 3993, 12186, 3995, 3996, 12188, 4004, 4008, 12203, 12206, 12207, 12216, 12225, 4034, 12227, 4039, 12232, 12233, 4048, 4049, 12246, 12249, 12259, 12264, 12269, 12271, 12272, 12278, 12279, 12287, 12289, 12290, 12291, 4100, 12293, 12294, 12295, 12310, 4123, 4124, 4126, 12323, 12328, 12330, 4143, 12348, 12352, 12359, 12363, 12368, 12370, 12371, 12377, 12378, 12379, 12380, 12381, 12382, 12383, 4202, 12395, 12397, 12399, 12400, 12403, 12406, 12413, 12423, 12427, 12433, 12445, 12448, 12450, 12456, 12457, 12459, 12460, 12466, 12467, 12480, 12482, 12484, 12486, 12491, 12492, 12497, 4306, 12498, 12500, 12502, 12512, 12514, 12516, 12522, 12524, 12526, 12529, 12530, 12532, 12533, 12536, 12537, 12538, 12539, 12540, 12542, 4351, 12545, 12546, 4356, 12548, 12550, 12551, 12552, 12554, 12555, 12557, 12558, 12561, 12563, 12566, 4375, 12570, 4379, 12579, 12581, 12583, 12585, 12589, 12593, 12606, 4420, 12629, 4438, 12631, 4440, 12632, 4459, 4469, 4471, 12664, 12670, 12672, 12673, 4487, 4488, 4489, 12683, 12685, 12689, 4500, 4502, 4503, 4504, 4505, 12697, 4509, 4511, 12704, 4517, 4526, 4527, 4529, 12721, 4531, 4534, 4535, 12729, 4541, 12738, 4547, 4549, 12741, 12742, 4556, 4557, 4558, 12750, 12754, 4564, 12757, 4566, 4567, 4570, 12762, 12763, 12764, 4574, 4591, 4594, 12788, 12789, 4605, 12801, 4611, 12807, 4623, 4627, 4631, 12823, 4637, 4639, 4645, 4647, 4651, 4654, 12847, 4659, 4664, 12857, 12865, 4677, 4681, 12874, 4694, 4700, 4702, 4703, 4704, 12895, 12901, 4713, 4715, 4721, 12928, 4738, 4751, 4784, 4793, 4801, 4814, 4819, 4824, 4828, 4830, 4831, 4833, 4841, 4843, 4854, 4863, 4864, 4865, 4869, 4871, 4874, 4875, 4892, 4893, 4895, 4898, 4900, 4906, 4913, 4914, 4919, 4921, 4923, 4924, 4925, 4930, 4933, 4935, 4937, 4939, 4940, 4941, 4943, 4945, 4946, 4952, 4953, 4954, 4956, 4957, 4963, 4965, 4968, 4970, 4971, 4972, 4973, 4978, 4980, 4987, 4988, 4992, 4994, 4995, 5007, 13201, 13202, 5012, 13205, 5016, 13208, 5021, 5022, 13213, 5026, 5028, 5033, 13225, 5044, 5045, 5051, 13244, 13246, 13262, 5072, 13264, 13270, 5080, 5081, 5082, 5083, 5084, 5086, 5094, 13294, 13297, 5107, 5108, 13299, 13307, 5124, 5125, 5126, 13318, 13321, 13322, 13326, 13327, 13331, 13338, 13345, 5154, 5158, 13353, 13355, 13358, 13363, 13364, 13370, 13373, 13375, 13381, 5197, 13389, 13397, 13402, 13404, 13406, 13414, 13417, 13419, 13420, 13421, 13425, 13440, 13458, 5276, 13472, 5298, 13492, 5314, 5316, 13526, 13554, 5363, 13572, 5405, 5415, 5419, 5424, 5428, 5430, 5442, 5457, 5467, 5468, 5470, 5471, 5478, 5490, 5491, 5492, 5504, 5510, 5512, 5513, 5514, 5524, 5525, 5541, 5548, 5571, 5576, 5579, 5584, 5599, 13792, 13796, 5608, 5612, 5613, 13810, 5624, 13819, 13823, 5632, 5633, 5640, 13832, 13834, 13837, 13846, 5656, 5657, 5658, 5659, 13857, 5668, 5670, 13866, 5682, 13874, 13877, 5688, 5691, 5692, 5698, 5701, 5702, 5703, 5704, 13896, 5709, 13909, 13912, 5726, 5729, 13921, 5735, 13928, 13930, 5739, 5740, 13931, 5744, 13936, 5746, 13939, 5751, 5754, 5755, 13947, 5757, 5758, 5759, 5760, 13951, 5766, 5768, 13961, 5776, 5777, 5779, 5781, 5783, 5786, 5794, 5799, 5805, 5807, 5814, 14006, 5820, 5821, 5822, 5824, 5825, 5826, 5827, 14018, 14021, 14022, 5830, 5831, 5833, 5839, 5840, 14032, 5845, 5846, 14037, 5854, 5856, 14053, 14055, 5865, 5869, 5870, 14064, 14082, 14083, 14090, 14093, 14105, 5921, 14121, 14143, 14162, 14173, 14176, 14179, 5989, 14208, 14220, 14224, 6088, 14290, 14291, 14292, 14293, 14295, 14302, 14304, 14308, 14309, 14322, 14324, 14327, 14330, 14332, 14335, 14336, 14337, 14339, 14343, 6226, 6309, 6328, 6375, 6419, 6420, 6429, 6430, 6440, 6459, 6476, 6487, 6488, 6491, 6506, 6511, 6515, 6516, 6518, 6520, 6521, 6527, 6535, 6541, 6546, 6548, 6549, 6551, 6553, 6555, 6562, 6563, 6564, 6565, 6566, 6569, 6581, 6586, 6593, 6635, 6647, 6652, 6657, 6664, 6689, 6692, 6700, 6716, 6729, 6735, 6745, 6818, 6848, 6856, 6862, 6873, 6875, 6883, 6911, 6920, 7008, 7013, 7018, 7021, 7030, 7033, 7035, 7040, 7052, 7060, 7061, 7065, 7067, 7072, 7073, 7078, 7087, 7088, 7090, 7093, 7102, 7105, 7110, 7114, 7121, 7123, 7128, 7131, 7132, 7136, 7138, 7139, 7140, 7142, 7153, 7159, 7169, 7171, 7172, 7177, 7178, 7182, 7183, 7190, 7192, 7194, 7196, 7198, 7199, 7214, 7215, 7216, 7217, 7219, 7227, 7230, 7231, 7232, 7242, 7243, 7245, 7249, 7250, 7253, 7256, 7259, 7260, 7267, 7271, 7273, 7274, 7277, 7286, 7288, 7301, 7307, 7308, 7309, 7343, 7397, 7606, 7690, 7723, 7763, 7764, 7863, 7870, 7880, 7882, 7883, 7887, 7893, 7906, 7910, 7913, 7935, 7938, 7945, 7951, 7975, 7984, 7988, 8001, 8003, 8012, 8040, 8047, 8053, 8057, 8082, 8087, 8096, 8099, 8100, 8104, 8117, 8118, 8133, 8138, 8142, 8144, 8155, 8158, 8160, 8162, 8163, 8174, 8176, 8178, 8180, 8181, 8184, 8187, 8188, 8190}, Time Taken = 0.0010 seconds\n"
          ]
        }
      ],
      "source": [
        "query5 = \"orang or warga and sosialisasi\"\n",
        "# Perform Boolean Retrieval\n",
        "result5, count5, time5 = boolean_retrieval(query5, inverted_index, total_docs=len(df))\n",
        "print(f\"Results for '{query5}': Document Count = {count5}, Documents = {result5}, Time Taken = {time5:.4f} seconds\")"
      ]
    }
  ],
  "metadata": {
    "colab": {
      "provenance": []
    },
    "kernelspec": {
      "display_name": "Python 3",
      "name": "python3"
    },
    "language_info": {
      "codemirror_mode": {
        "name": "ipython",
        "version": 3
      },
      "file_extension": ".py",
      "mimetype": "text/x-python",
      "name": "python",
      "nbconvert_exporter": "python",
      "pygments_lexer": "ipython3",
      "version": "3.11.2"
    }
  },
  "nbformat": 4,
  "nbformat_minor": 0
}
